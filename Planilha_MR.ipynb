{
  "nbformat": 4,
  "nbformat_minor": 0,
  "metadata": {
    "colab": {
      "name": "Planilha_MR.ipynb",
      "provenance": []
    },
    "kernelspec": {
      "name": "python3",
      "display_name": "Python 3"
    }
  },
  "cells": [
    {
      "cell_type": "code",
      "metadata": {
        "id": "u-BxnpDUGIbX"
      },
      "source": [
        "import pandas as pd\r\n",
        "import matplotlib.pyplot as plt\r\n",
        "from math import pi, log, exp"
      ],
      "execution_count": 1,
      "outputs": []
    },
    {
      "cell_type": "markdown",
      "metadata": {
        "id": "g4lG0vSPnRCp"
      },
      "source": [
        "Importação dos resultados do ensaio"
      ]
    },
    {
      "cell_type": "code",
      "metadata": {
        "id": "WQnwO89OGSfT"
      },
      "source": [
        "df = pd.read_csv('modelo.xls', sep=';')"
      ],
      "execution_count": 2,
      "outputs": []
    },
    {
      "cell_type": "code",
      "metadata": {
        "colab": {
          "base_uri": "https://localhost:8080/",
          "height": 607
        },
        "id": "5eltPHjWGjQy",
        "outputId": "1eb735b3-e593-46ff-986f-7f0387e2216b"
      },
      "source": [
        "df"
      ],
      "execution_count": 3,
      "outputs": [
        {
          "output_type": "execute_result",
          "data": {
            "text/html": [
              "<div>\n",
              "<style scoped>\n",
              "    .dataframe tbody tr th:only-of-type {\n",
              "        vertical-align: middle;\n",
              "    }\n",
              "\n",
              "    .dataframe tbody tr th {\n",
              "        vertical-align: top;\n",
              "    }\n",
              "\n",
              "    .dataframe thead th {\n",
              "        text-align: right;\n",
              "    }\n",
              "</style>\n",
              "<table border=\"1\" class=\"dataframe\">\n",
              "  <thead>\n",
              "    <tr style=\"text-align: right;\">\n",
              "      <th></th>\n",
              "      <th>s3 (Mpa)</th>\n",
              "      <th>Carga (kgf)</th>\n",
              "      <th>LVDT-A (mm)</th>\n",
              "      <th>LVDT-B (mm)</th>\n",
              "    </tr>\n",
              "  </thead>\n",
              "  <tbody>\n",
              "    <tr>\n",
              "      <th>0</th>\n",
              "      <td>0.0207</td>\n",
              "      <td>17.88</td>\n",
              "      <td>0.011142</td>\n",
              "      <td>0.012061</td>\n",
              "    </tr>\n",
              "    <tr>\n",
              "      <th>1</th>\n",
              "      <td>0.0207</td>\n",
              "      <td>36.50</td>\n",
              "      <td>0.028317</td>\n",
              "      <td>0.032436</td>\n",
              "    </tr>\n",
              "    <tr>\n",
              "      <th>2</th>\n",
              "      <td>0.0207</td>\n",
              "      <td>50.86</td>\n",
              "      <td>0.045420</td>\n",
              "      <td>0.054234</td>\n",
              "    </tr>\n",
              "    <tr>\n",
              "      <th>3</th>\n",
              "      <td>0.0345</td>\n",
              "      <td>29.10</td>\n",
              "      <td>0.020936</td>\n",
              "      <td>0.023896</td>\n",
              "    </tr>\n",
              "    <tr>\n",
              "      <th>4</th>\n",
              "      <td>0.0345</td>\n",
              "      <td>56.89</td>\n",
              "      <td>0.051595</td>\n",
              "      <td>0.062099</td>\n",
              "    </tr>\n",
              "    <tr>\n",
              "      <th>5</th>\n",
              "      <td>0.0345</td>\n",
              "      <td>84.84</td>\n",
              "      <td>0.092686</td>\n",
              "      <td>0.112963</td>\n",
              "    </tr>\n",
              "    <tr>\n",
              "      <th>6</th>\n",
              "      <td>0.0504</td>\n",
              "      <td>41.10</td>\n",
              "      <td>0.031014</td>\n",
              "      <td>0.037529</td>\n",
              "    </tr>\n",
              "    <tr>\n",
              "      <th>7</th>\n",
              "      <td>0.0504</td>\n",
              "      <td>83.11</td>\n",
              "      <td>0.084596</td>\n",
              "      <td>0.105022</td>\n",
              "    </tr>\n",
              "    <tr>\n",
              "      <th>8</th>\n",
              "      <td>0.0504</td>\n",
              "      <td>124.85</td>\n",
              "      <td>0.142363</td>\n",
              "      <td>0.173639</td>\n",
              "    </tr>\n",
              "    <tr>\n",
              "      <th>9</th>\n",
              "      <td>0.0689</td>\n",
              "      <td>57.10</td>\n",
              "      <td>0.048685</td>\n",
              "      <td>0.057380</td>\n",
              "    </tr>\n",
              "    <tr>\n",
              "      <th>10</th>\n",
              "      <td>0.0689</td>\n",
              "      <td>110.54</td>\n",
              "      <td>0.113835</td>\n",
              "      <td>0.141878</td>\n",
              "    </tr>\n",
              "    <tr>\n",
              "      <th>11</th>\n",
              "      <td>0.0689</td>\n",
              "      <td>166.65</td>\n",
              "      <td>0.173520</td>\n",
              "      <td>0.225626</td>\n",
              "    </tr>\n",
              "    <tr>\n",
              "      <th>12</th>\n",
              "      <td>0.1029</td>\n",
              "      <td>83.37</td>\n",
              "      <td>0.061105</td>\n",
              "      <td>0.082475</td>\n",
              "    </tr>\n",
              "    <tr>\n",
              "      <th>13</th>\n",
              "      <td>0.1029</td>\n",
              "      <td>166.49</td>\n",
              "      <td>0.143481</td>\n",
              "      <td>0.196936</td>\n",
              "    </tr>\n",
              "    <tr>\n",
              "      <th>14</th>\n",
              "      <td>0.1029</td>\n",
              "      <td>248.08</td>\n",
              "      <td>0.219083</td>\n",
              "      <td>0.294692</td>\n",
              "    </tr>\n",
              "    <tr>\n",
              "      <th>15</th>\n",
              "      <td>0.1379</td>\n",
              "      <td>111.90</td>\n",
              "      <td>0.075516</td>\n",
              "      <td>0.104124</td>\n",
              "    </tr>\n",
              "    <tr>\n",
              "      <th>16</th>\n",
              "      <td>0.1379</td>\n",
              "      <td>221.08</td>\n",
              "      <td>0.168978</td>\n",
              "      <td>0.227724</td>\n",
              "    </tr>\n",
              "    <tr>\n",
              "      <th>17</th>\n",
              "      <td>0.1379</td>\n",
              "      <td>320.66</td>\n",
              "      <td>0.267768</td>\n",
              "      <td>0.361586</td>\n",
              "    </tr>\n",
              "  </tbody>\n",
              "</table>\n",
              "</div>"
            ],
            "text/plain": [
              "    s3 (Mpa)  Carga (kgf)  LVDT-A (mm)  LVDT-B (mm)\n",
              "0     0.0207        17.88     0.011142     0.012061\n",
              "1     0.0207        36.50     0.028317     0.032436\n",
              "2     0.0207        50.86     0.045420     0.054234\n",
              "3     0.0345        29.10     0.020936     0.023896\n",
              "4     0.0345        56.89     0.051595     0.062099\n",
              "5     0.0345        84.84     0.092686     0.112963\n",
              "6     0.0504        41.10     0.031014     0.037529\n",
              "7     0.0504        83.11     0.084596     0.105022\n",
              "8     0.0504       124.85     0.142363     0.173639\n",
              "9     0.0689        57.10     0.048685     0.057380\n",
              "10    0.0689       110.54     0.113835     0.141878\n",
              "11    0.0689       166.65     0.173520     0.225626\n",
              "12    0.1029        83.37     0.061105     0.082475\n",
              "13    0.1029       166.49     0.143481     0.196936\n",
              "14    0.1029       248.08     0.219083     0.294692\n",
              "15    0.1379       111.90     0.075516     0.104124\n",
              "16    0.1379       221.08     0.168978     0.227724\n",
              "17    0.1379       320.66     0.267768     0.361586"
            ]
          },
          "metadata": {
            "tags": []
          },
          "execution_count": 3
        }
      ]
    },
    {
      "cell_type": "code",
      "metadata": {
        "colab": {
          "base_uri": "https://localhost:8080/"
        },
        "id": "iYnwKy4LPSQi",
        "outputId": "6bdd38ba-ec8c-4333-dea5-4cd26861aabf"
      },
      "source": [
        "df.columns"
      ],
      "execution_count": 4,
      "outputs": [
        {
          "output_type": "execute_result",
          "data": {
            "text/plain": [
              "Index(['s3 (Mpa)', 'Carga (kgf)', 'LVDT-A (mm)', 'LVDT-B (mm)'], dtype='object')"
            ]
          },
          "metadata": {
            "tags": []
          },
          "execution_count": 4
        }
      ]
    },
    {
      "cell_type": "markdown",
      "metadata": {
        "id": "F3FCHMXdeqPn"
      },
      "source": [
        "Calculo dos resultados"
      ]
    },
    {
      "cell_type": "code",
      "metadata": {
        "id": "HfcswZkOO389"
      },
      "source": [
        "e_list = list()\r\n",
        "sd_list = list()\r\n",
        "mr_list = list()\r\n",
        "oct_list = list()\r\n",
        "for i in df.index:\r\n",
        "    e = (float(df['LVDT-A (mm)'][i])+float(df['LVDT-B (mm)'][i]))/2/200\r\n",
        "    sd =  (float(df['Carga (kgf)'][i])*9.81)/(100**2*pi/4)\r\n",
        "    mr = sd/e\r\n",
        "    oct = (sd+3*float(df['s3 (Mpa)'][i]))\r\n",
        "    e_list.append(e)\r\n",
        "    sd_list.append(sd)\r\n",
        "    mr_list.append(mr)\r\n",
        "    oct_list.append(oct)\r\n",
        "df['e'] = e_list\r\n",
        "df['sd (Mpa)'] = sd_list\r\n",
        "df['oct (mpa)'] = oct_list\r\n",
        "df['MR (Mpa)'] = mr_list\r\n"
      ],
      "execution_count": 5,
      "outputs": []
    },
    {
      "cell_type": "code",
      "metadata": {
        "colab": {
          "base_uri": "https://localhost:8080/",
          "height": 607
        },
        "id": "JQTi5kBZOcoA",
        "outputId": "0c7a91bc-983f-41dc-c77e-263bf3abbdc0"
      },
      "source": [
        "df"
      ],
      "execution_count": 6,
      "outputs": [
        {
          "output_type": "execute_result",
          "data": {
            "text/html": [
              "<div>\n",
              "<style scoped>\n",
              "    .dataframe tbody tr th:only-of-type {\n",
              "        vertical-align: middle;\n",
              "    }\n",
              "\n",
              "    .dataframe tbody tr th {\n",
              "        vertical-align: top;\n",
              "    }\n",
              "\n",
              "    .dataframe thead th {\n",
              "        text-align: right;\n",
              "    }\n",
              "</style>\n",
              "<table border=\"1\" class=\"dataframe\">\n",
              "  <thead>\n",
              "    <tr style=\"text-align: right;\">\n",
              "      <th></th>\n",
              "      <th>s3 (Mpa)</th>\n",
              "      <th>Carga (kgf)</th>\n",
              "      <th>LVDT-A (mm)</th>\n",
              "      <th>LVDT-B (mm)</th>\n",
              "      <th>e</th>\n",
              "      <th>sd (Mpa)</th>\n",
              "      <th>oct (mpa)</th>\n",
              "      <th>MR (Mpa)</th>\n",
              "    </tr>\n",
              "  </thead>\n",
              "  <tbody>\n",
              "    <tr>\n",
              "      <th>0</th>\n",
              "      <td>0.0207</td>\n",
              "      <td>17.88</td>\n",
              "      <td>0.011142</td>\n",
              "      <td>0.012061</td>\n",
              "      <td>0.000058</td>\n",
              "      <td>0.022333</td>\n",
              "      <td>0.084433</td>\n",
              "      <td>385.001562</td>\n",
              "    </tr>\n",
              "    <tr>\n",
              "      <th>1</th>\n",
              "      <td>0.0207</td>\n",
              "      <td>36.50</td>\n",
              "      <td>0.028317</td>\n",
              "      <td>0.032436</td>\n",
              "      <td>0.000152</td>\n",
              "      <td>0.045590</td>\n",
              "      <td>0.107690</td>\n",
              "      <td>300.167905</td>\n",
              "    </tr>\n",
              "    <tr>\n",
              "      <th>2</th>\n",
              "      <td>0.0207</td>\n",
              "      <td>50.86</td>\n",
              "      <td>0.045420</td>\n",
              "      <td>0.054234</td>\n",
              "      <td>0.000249</td>\n",
              "      <td>0.063527</td>\n",
              "      <td>0.125627</td>\n",
              "      <td>254.988584</td>\n",
              "    </tr>\n",
              "    <tr>\n",
              "      <th>3</th>\n",
              "      <td>0.0345</td>\n",
              "      <td>29.10</td>\n",
              "      <td>0.020936</td>\n",
              "      <td>0.023896</td>\n",
              "      <td>0.000112</td>\n",
              "      <td>0.036347</td>\n",
              "      <td>0.139847</td>\n",
              "      <td>324.297069</td>\n",
              "    </tr>\n",
              "    <tr>\n",
              "      <th>4</th>\n",
              "      <td>0.0345</td>\n",
              "      <td>56.89</td>\n",
              "      <td>0.051595</td>\n",
              "      <td>0.062099</td>\n",
              "      <td>0.000284</td>\n",
              "      <td>0.071058</td>\n",
              "      <td>0.174558</td>\n",
              "      <td>249.998559</td>\n",
              "    </tr>\n",
              "    <tr>\n",
              "      <th>5</th>\n",
              "      <td>0.0345</td>\n",
              "      <td>84.84</td>\n",
              "      <td>0.092686</td>\n",
              "      <td>0.112963</td>\n",
              "      <td>0.000514</td>\n",
              "      <td>0.105969</td>\n",
              "      <td>0.209469</td>\n",
              "      <td>206.116697</td>\n",
              "    </tr>\n",
              "    <tr>\n",
              "      <th>6</th>\n",
              "      <td>0.0504</td>\n",
              "      <td>41.10</td>\n",
              "      <td>0.031014</td>\n",
              "      <td>0.037529</td>\n",
              "      <td>0.000171</td>\n",
              "      <td>0.051336</td>\n",
              "      <td>0.202536</td>\n",
              "      <td>299.583459</td>\n",
              "    </tr>\n",
              "    <tr>\n",
              "      <th>7</th>\n",
              "      <td>0.0504</td>\n",
              "      <td>83.11</td>\n",
              "      <td>0.084596</td>\n",
              "      <td>0.105022</td>\n",
              "      <td>0.000474</td>\n",
              "      <td>0.103808</td>\n",
              "      <td>0.255008</td>\n",
              "      <td>218.984229</td>\n",
              "    </tr>\n",
              "    <tr>\n",
              "      <th>8</th>\n",
              "      <td>0.0504</td>\n",
              "      <td>124.85</td>\n",
              "      <td>0.142363</td>\n",
              "      <td>0.173639</td>\n",
              "      <td>0.000790</td>\n",
              "      <td>0.155944</td>\n",
              "      <td>0.307144</td>\n",
              "      <td>197.395766</td>\n",
              "    </tr>\n",
              "    <tr>\n",
              "      <th>9</th>\n",
              "      <td>0.0689</td>\n",
              "      <td>57.10</td>\n",
              "      <td>0.048685</td>\n",
              "      <td>0.057380</td>\n",
              "      <td>0.000265</td>\n",
              "      <td>0.071321</td>\n",
              "      <td>0.278021</td>\n",
              "      <td>268.969558</td>\n",
              "    </tr>\n",
              "    <tr>\n",
              "      <th>10</th>\n",
              "      <td>0.0689</td>\n",
              "      <td>110.54</td>\n",
              "      <td>0.113835</td>\n",
              "      <td>0.141878</td>\n",
              "      <td>0.000639</td>\n",
              "      <td>0.138070</td>\n",
              "      <td>0.344770</td>\n",
              "      <td>215.976138</td>\n",
              "    </tr>\n",
              "    <tr>\n",
              "      <th>11</th>\n",
              "      <td>0.0689</td>\n",
              "      <td>166.65</td>\n",
              "      <td>0.173520</td>\n",
              "      <td>0.225626</td>\n",
              "      <td>0.000998</td>\n",
              "      <td>0.208154</td>\n",
              "      <td>0.414854</td>\n",
              "      <td>208.599207</td>\n",
              "    </tr>\n",
              "    <tr>\n",
              "      <th>12</th>\n",
              "      <td>0.1029</td>\n",
              "      <td>83.37</td>\n",
              "      <td>0.061105</td>\n",
              "      <td>0.082475</td>\n",
              "      <td>0.000359</td>\n",
              "      <td>0.104133</td>\n",
              "      <td>0.412833</td>\n",
              "      <td>290.104837</td>\n",
              "    </tr>\n",
              "    <tr>\n",
              "      <th>13</th>\n",
              "      <td>0.1029</td>\n",
              "      <td>166.49</td>\n",
              "      <td>0.143481</td>\n",
              "      <td>0.196936</td>\n",
              "      <td>0.000851</td>\n",
              "      <td>0.207954</td>\n",
              "      <td>0.516654</td>\n",
              "      <td>244.352075</td>\n",
              "    </tr>\n",
              "    <tr>\n",
              "      <th>14</th>\n",
              "      <td>0.1029</td>\n",
              "      <td>248.08</td>\n",
              "      <td>0.219083</td>\n",
              "      <td>0.294692</td>\n",
              "      <td>0.001284</td>\n",
              "      <td>0.309864</td>\n",
              "      <td>0.618564</td>\n",
              "      <td>241.244768</td>\n",
              "    </tr>\n",
              "    <tr>\n",
              "      <th>15</th>\n",
              "      <td>0.1379</td>\n",
              "      <td>111.90</td>\n",
              "      <td>0.075516</td>\n",
              "      <td>0.104124</td>\n",
              "      <td>0.000449</td>\n",
              "      <td>0.139768</td>\n",
              "      <td>0.553468</td>\n",
              "      <td>311.219039</td>\n",
              "    </tr>\n",
              "    <tr>\n",
              "      <th>16</th>\n",
              "      <td>0.1379</td>\n",
              "      <td>221.08</td>\n",
              "      <td>0.168978</td>\n",
              "      <td>0.227724</td>\n",
              "      <td>0.000992</td>\n",
              "      <td>0.276140</td>\n",
              "      <td>0.689840</td>\n",
              "      <td>278.435229</td>\n",
              "    </tr>\n",
              "    <tr>\n",
              "      <th>17</th>\n",
              "      <td>0.1379</td>\n",
              "      <td>320.66</td>\n",
              "      <td>0.267768</td>\n",
              "      <td>0.361586</td>\n",
              "      <td>0.001573</td>\n",
              "      <td>0.400520</td>\n",
              "      <td>0.814220</td>\n",
              "      <td>254.559265</td>\n",
              "    </tr>\n",
              "  </tbody>\n",
              "</table>\n",
              "</div>"
            ],
            "text/plain": [
              "    s3 (Mpa)  Carga (kgf)  LVDT-A (mm)  ...  sd (Mpa)  oct (mpa)    MR (Mpa)\n",
              "0     0.0207        17.88     0.011142  ...  0.022333   0.084433  385.001562\n",
              "1     0.0207        36.50     0.028317  ...  0.045590   0.107690  300.167905\n",
              "2     0.0207        50.86     0.045420  ...  0.063527   0.125627  254.988584\n",
              "3     0.0345        29.10     0.020936  ...  0.036347   0.139847  324.297069\n",
              "4     0.0345        56.89     0.051595  ...  0.071058   0.174558  249.998559\n",
              "5     0.0345        84.84     0.092686  ...  0.105969   0.209469  206.116697\n",
              "6     0.0504        41.10     0.031014  ...  0.051336   0.202536  299.583459\n",
              "7     0.0504        83.11     0.084596  ...  0.103808   0.255008  218.984229\n",
              "8     0.0504       124.85     0.142363  ...  0.155944   0.307144  197.395766\n",
              "9     0.0689        57.10     0.048685  ...  0.071321   0.278021  268.969558\n",
              "10    0.0689       110.54     0.113835  ...  0.138070   0.344770  215.976138\n",
              "11    0.0689       166.65     0.173520  ...  0.208154   0.414854  208.599207\n",
              "12    0.1029        83.37     0.061105  ...  0.104133   0.412833  290.104837\n",
              "13    0.1029       166.49     0.143481  ...  0.207954   0.516654  244.352075\n",
              "14    0.1029       248.08     0.219083  ...  0.309864   0.618564  241.244768\n",
              "15    0.1379       111.90     0.075516  ...  0.139768   0.553468  311.219039\n",
              "16    0.1379       221.08     0.168978  ...  0.276140   0.689840  278.435229\n",
              "17    0.1379       320.66     0.267768  ...  0.400520   0.814220  254.559265\n",
              "\n",
              "[18 rows x 8 columns]"
            ]
          },
          "metadata": {
            "tags": []
          },
          "execution_count": 6
        }
      ]
    },
    {
      "cell_type": "markdown",
      "metadata": {
        "id": "SjT1zkENnjEM"
      },
      "source": [
        "Vizualização dos resultados"
      ]
    },
    {
      "cell_type": "code",
      "metadata": {
        "colab": {
          "base_uri": "https://localhost:8080/",
          "height": 312
        },
        "id": "odrdIWMcSGx9",
        "outputId": "739f58ad-068b-41c8-ba1d-62655f75908d"
      },
      "source": [
        "fig = plt.figure()\r\n",
        "plt.scatter(df.filter(items=['s3 (Mpa)']), df.filter(items=['MR (Mpa)']), vmin=100)\r\n",
        "#plt.plot(x, regressor.predict(x), color='red')\r\n",
        "plt.title('Módulo de Resiliência')\r\n",
        "plt.xlabel('Tensão de confinamento')\r\n",
        "plt.ylabel('Módulo de resiliência')\r\n",
        "plt.xlim(0,0.15)\r\n",
        "plt.ylim(0,500)"
      ],
      "execution_count": 7,
      "outputs": [
        {
          "output_type": "execute_result",
          "data": {
            "text/plain": [
              "(0.0, 500.0)"
            ]
          },
          "metadata": {
            "tags": []
          },
          "execution_count": 7
        },
        {
          "output_type": "display_data",
          "data": {
            "image/png": "[encoded data removed]",
            "text/plain": [
              "<Figure size 432x288 with 1 Axes>"
            ]
          },
          "metadata": {
            "tags": [],
            "needs_background": "light"
          }
        }
      ]
    },
    {
      "cell_type": "code",
      "metadata": {
        "colab": {
          "base_uri": "https://localhost:8080/",
          "height": 312
        },
        "id": "E9mv1ViajRIU",
        "outputId": "dc90ffec-cfa1-431e-dcfb-eaa956ac8d3a"
      },
      "source": [
        "fig = plt.figure()\r\n",
        "plt.scatter(df.filter(items=['sd (Mpa)']), df.filter(items=['MR (Mpa)']), vmin=100)\r\n",
        "#plt.plot(x, regressor.predict(x), color='red')\r\n",
        "plt.title('Módulo de Resiliência')\r\n",
        "plt.xlabel('Tensão de desvio')\r\n",
        "plt.ylabel('Módulo de resiliência')\r\n",
        "plt.xlim(0, 0.5)\r\n",
        "plt.ylim(0, 500)"
      ],
      "execution_count": 8,
      "outputs": [
        {
          "output_type": "execute_result",
          "data": {
            "text/plain": [
              "(0.0, 500.0)"
            ]
          },
          "metadata": {
            "tags": []
          },
          "execution_count": 8
        },
        {
          "output_type": "display_data",
          "data": {
            "image/png": "[encoded data removed]",
            "text/plain": [
              "<Figure size 432x288 with 1 Axes>"
            ]
          },
          "metadata": {
            "tags": [],
            "needs_background": "light"
          }
        }
      ]
    },
    {
      "cell_type": "markdown",
      "metadata": {
        "id": "XHAP0O3InnQu"
      },
      "source": [
        "Preparação para regressão potêncial"
      ]
    },
    {
      "cell_type": "code",
      "metadata": {
        "id": "Gx5IIxXBR16V"
      },
      "source": [
        "#transformação dos parâmetros de entrada para a base ln\r\n",
        "ln_mr_list = list()\r\n",
        "ln_e_list = list()\r\n",
        "ln_s3_list = list()\r\n",
        "ln_sd_list = list()\r\n",
        "ln_oct_list = list()\r\n",
        "for i in df.index:\r\n",
        "    ln_mr = log(float(df['MR (Mpa)'][i]))\r\n",
        "    ln_e = log(float(df['e'][i]))\r\n",
        "    ln_s3 = log(float(df['s3 (Mpa)'][i]))\r\n",
        "    ln_sd = log(float(df['sd (Mpa)'][i]))\r\n",
        "    ln_oct = log(float(df['oct (mpa)'][i]))\r\n",
        "    ln_mr_list.append(ln_mr)\r\n",
        "    ln_e_list.append(ln_e)\r\n",
        "    ln_s3_list.append(ln_s3)\r\n",
        "    ln_sd_list.append(ln_sd)\r\n",
        "    ln_oct_list.append(ln_oct)\r\n",
        "df['ln_mr'] = ln_mr_list\r\n",
        "df['ln_e'] = ln_e_list\r\n",
        "df['ln_s3'] = ln_s3_list\r\n",
        "df['ln_sd'] = ln_sd_list\r\n",
        "df['ln_oct'] = ln_oct_list"
      ],
      "execution_count": 9,
      "outputs": []
    },
    {
      "cell_type": "code",
      "metadata": {
        "colab": {
          "base_uri": "https://localhost:8080/",
          "height": 644
        },
        "id": "-p_uAUqQXmHO",
        "outputId": "1cfd6e2c-6961-46cc-b192-bfa4f105ef09"
      },
      "source": [
        "df"
      ],
      "execution_count": 10,
      "outputs": [
        {
          "output_type": "execute_result",
          "data": {
            "text/html": [
              "<div>\n",
              "<style scoped>\n",
              "    .dataframe tbody tr th:only-of-type {\n",
              "        vertical-align: middle;\n",
              "    }\n",
              "\n",
              "    .dataframe tbody tr th {\n",
              "        vertical-align: top;\n",
              "    }\n",
              "\n",
              "    .dataframe thead th {\n",
              "        text-align: right;\n",
              "    }\n",
              "</style>\n",
              "<table border=\"1\" class=\"dataframe\">\n",
              "  <thead>\n",
              "    <tr style=\"text-align: right;\">\n",
              "      <th></th>\n",
              "      <th>s3 (Mpa)</th>\n",
              "      <th>Carga (kgf)</th>\n",
              "      <th>LVDT-A (mm)</th>\n",
              "      <th>LVDT-B (mm)</th>\n",
              "      <th>e</th>\n",
              "      <th>sd (Mpa)</th>\n",
              "      <th>oct (mpa)</th>\n",
              "      <th>MR (Mpa)</th>\n",
              "      <th>ln_mr</th>\n",
              "      <th>ln_e</th>\n",
              "      <th>ln_s3</th>\n",
              "      <th>ln_sd</th>\n",
              "      <th>ln_oct</th>\n",
              "    </tr>\n",
              "  </thead>\n",
              "  <tbody>\n",
              "    <tr>\n",
              "      <th>0</th>\n",
              "      <td>0.0207</td>\n",
              "      <td>17.88</td>\n",
              "      <td>0.011142</td>\n",
              "      <td>0.012061</td>\n",
              "      <td>0.000058</td>\n",
              "      <td>0.022333</td>\n",
              "      <td>0.084433</td>\n",
              "      <td>385.001562</td>\n",
              "      <td>5.953247</td>\n",
              "      <td>-9.754938</td>\n",
              "      <td>-3.877622</td>\n",
              "      <td>-3.801691</td>\n",
              "      <td>-2.471797</td>\n",
              "    </tr>\n",
              "    <tr>\n",
              "      <th>1</th>\n",
              "      <td>0.0207</td>\n",
              "      <td>36.50</td>\n",
              "      <td>0.028317</td>\n",
              "      <td>0.032436</td>\n",
              "      <td>0.000152</td>\n",
              "      <td>0.045590</td>\n",
              "      <td>0.107690</td>\n",
              "      <td>300.167905</td>\n",
              "      <td>5.704342</td>\n",
              "      <td>-8.792403</td>\n",
              "      <td>-3.877622</td>\n",
              "      <td>-3.088061</td>\n",
              "      <td>-2.228496</td>\n",
              "    </tr>\n",
              "    <tr>\n",
              "      <th>2</th>\n",
              "      <td>0.0207</td>\n",
              "      <td>50.86</td>\n",
              "      <td>0.045420</td>\n",
              "      <td>0.054234</td>\n",
              "      <td>0.000249</td>\n",
              "      <td>0.063527</td>\n",
              "      <td>0.125627</td>\n",
              "      <td>254.988584</td>\n",
              "      <td>5.541219</td>\n",
              "      <td>-8.297516</td>\n",
              "      <td>-3.877622</td>\n",
              "      <td>-2.756297</td>\n",
              "      <td>-2.074441</td>\n",
              "    </tr>\n",
              "    <tr>\n",
              "      <th>3</th>\n",
              "      <td>0.0345</td>\n",
              "      <td>29.10</td>\n",
              "      <td>0.020936</td>\n",
              "      <td>0.023896</td>\n",
              "      <td>0.000112</td>\n",
              "      <td>0.036347</td>\n",
              "      <td>0.139847</td>\n",
              "      <td>324.297069</td>\n",
              "      <td>5.781660</td>\n",
              "      <td>-9.096295</td>\n",
              "      <td>-3.366796</td>\n",
              "      <td>-3.314635</td>\n",
              "      <td>-1.967204</td>\n",
              "    </tr>\n",
              "    <tr>\n",
              "      <th>4</th>\n",
              "      <td>0.0345</td>\n",
              "      <td>56.89</td>\n",
              "      <td>0.051595</td>\n",
              "      <td>0.062099</td>\n",
              "      <td>0.000284</td>\n",
              "      <td>0.071058</td>\n",
              "      <td>0.174558</td>\n",
              "      <td>249.998559</td>\n",
              "      <td>5.521455</td>\n",
              "      <td>-8.165709</td>\n",
              "      <td>-3.366796</td>\n",
              "      <td>-2.644254</td>\n",
              "      <td>-1.745496</td>\n",
              "    </tr>\n",
              "    <tr>\n",
              "      <th>5</th>\n",
              "      <td>0.0345</td>\n",
              "      <td>84.84</td>\n",
              "      <td>0.092686</td>\n",
              "      <td>0.112963</td>\n",
              "      <td>0.000514</td>\n",
              "      <td>0.105969</td>\n",
              "      <td>0.209469</td>\n",
              "      <td>206.116697</td>\n",
              "      <td>5.328443</td>\n",
              "      <td>-7.573049</td>\n",
              "      <td>-3.366796</td>\n",
              "      <td>-2.244606</td>\n",
              "      <td>-1.563178</td>\n",
              "    </tr>\n",
              "    <tr>\n",
              "      <th>6</th>\n",
              "      <td>0.0504</td>\n",
              "      <td>41.10</td>\n",
              "      <td>0.031014</td>\n",
              "      <td>0.037529</td>\n",
              "      <td>0.000171</td>\n",
              "      <td>0.051336</td>\n",
              "      <td>0.202536</td>\n",
              "      <td>299.583459</td>\n",
              "      <td>5.702393</td>\n",
              "      <td>-8.671759</td>\n",
              "      <td>-2.987764</td>\n",
              "      <td>-2.969366</td>\n",
              "      <td>-1.596838</td>\n",
              "    </tr>\n",
              "    <tr>\n",
              "      <th>7</th>\n",
              "      <td>0.0504</td>\n",
              "      <td>83.11</td>\n",
              "      <td>0.084596</td>\n",
              "      <td>0.105022</td>\n",
              "      <td>0.000474</td>\n",
              "      <td>0.103808</td>\n",
              "      <td>0.255008</td>\n",
              "      <td>218.984229</td>\n",
              "      <td>5.389000</td>\n",
              "      <td>-7.654208</td>\n",
              "      <td>-2.987764</td>\n",
              "      <td>-2.265209</td>\n",
              "      <td>-1.366459</td>\n",
              "    </tr>\n",
              "    <tr>\n",
              "      <th>8</th>\n",
              "      <td>0.0504</td>\n",
              "      <td>124.85</td>\n",
              "      <td>0.142363</td>\n",
              "      <td>0.173639</td>\n",
              "      <td>0.000790</td>\n",
              "      <td>0.155944</td>\n",
              "      <td>0.307144</td>\n",
              "      <td>197.395766</td>\n",
              "      <td>5.285211</td>\n",
              "      <td>-7.143471</td>\n",
              "      <td>-2.987764</td>\n",
              "      <td>-1.858261</td>\n",
              "      <td>-1.180440</td>\n",
              "    </tr>\n",
              "    <tr>\n",
              "      <th>9</th>\n",
              "      <td>0.0689</td>\n",
              "      <td>57.10</td>\n",
              "      <td>0.048685</td>\n",
              "      <td>0.057380</td>\n",
              "      <td>0.000265</td>\n",
              "      <td>0.071321</td>\n",
              "      <td>0.278021</td>\n",
              "      <td>268.969558</td>\n",
              "      <td>5.594598</td>\n",
              "      <td>-8.235168</td>\n",
              "      <td>-2.675099</td>\n",
              "      <td>-2.640570</td>\n",
              "      <td>-1.280060</td>\n",
              "    </tr>\n",
              "    <tr>\n",
              "      <th>10</th>\n",
              "      <td>0.0689</td>\n",
              "      <td>110.54</td>\n",
              "      <td>0.113835</td>\n",
              "      <td>0.141878</td>\n",
              "      <td>0.000639</td>\n",
              "      <td>0.138070</td>\n",
              "      <td>0.344770</td>\n",
              "      <td>215.976138</td>\n",
              "      <td>5.375168</td>\n",
              "      <td>-7.355164</td>\n",
              "      <td>-2.675099</td>\n",
              "      <td>-1.979996</td>\n",
              "      <td>-1.064878</td>\n",
              "    </tr>\n",
              "    <tr>\n",
              "      <th>11</th>\n",
              "      <td>0.0689</td>\n",
              "      <td>166.65</td>\n",
              "      <td>0.173520</td>\n",
              "      <td>0.225626</td>\n",
              "      <td>0.000998</td>\n",
              "      <td>0.208154</td>\n",
              "      <td>0.414854</td>\n",
              "      <td>208.599207</td>\n",
              "      <td>5.340415</td>\n",
              "      <td>-6.909893</td>\n",
              "      <td>-2.675099</td>\n",
              "      <td>-1.569478</td>\n",
              "      <td>-0.879829</td>\n",
              "    </tr>\n",
              "    <tr>\n",
              "      <th>12</th>\n",
              "      <td>0.1029</td>\n",
              "      <td>83.37</td>\n",
              "      <td>0.061105</td>\n",
              "      <td>0.082475</td>\n",
              "      <td>0.000359</td>\n",
              "      <td>0.104133</td>\n",
              "      <td>0.412833</td>\n",
              "      <td>290.104837</td>\n",
              "      <td>5.670242</td>\n",
              "      <td>-7.932327</td>\n",
              "      <td>-2.273998</td>\n",
              "      <td>-2.262085</td>\n",
              "      <td>-0.884712</td>\n",
              "    </tr>\n",
              "    <tr>\n",
              "      <th>13</th>\n",
              "      <td>0.1029</td>\n",
              "      <td>166.49</td>\n",
              "      <td>0.143481</td>\n",
              "      <td>0.196936</td>\n",
              "      <td>0.000851</td>\n",
              "      <td>0.207954</td>\n",
              "      <td>0.516654</td>\n",
              "      <td>244.352075</td>\n",
              "      <td>5.498610</td>\n",
              "      <td>-7.069048</td>\n",
              "      <td>-2.273998</td>\n",
              "      <td>-1.570438</td>\n",
              "      <td>-0.660382</td>\n",
              "    </tr>\n",
              "    <tr>\n",
              "      <th>14</th>\n",
              "      <td>0.1029</td>\n",
              "      <td>248.08</td>\n",
              "      <td>0.219083</td>\n",
              "      <td>0.294692</td>\n",
              "      <td>0.001284</td>\n",
              "      <td>0.309864</td>\n",
              "      <td>0.618564</td>\n",
              "      <td>241.244768</td>\n",
              "      <td>5.485812</td>\n",
              "      <td>-6.657434</td>\n",
              "      <td>-2.273998</td>\n",
              "      <td>-1.171622</td>\n",
              "      <td>-0.480355</td>\n",
              "    </tr>\n",
              "    <tr>\n",
              "      <th>15</th>\n",
              "      <td>0.1379</td>\n",
              "      <td>111.90</td>\n",
              "      <td>0.075516</td>\n",
              "      <td>0.104124</td>\n",
              "      <td>0.000449</td>\n",
              "      <td>0.139768</td>\n",
              "      <td>0.553468</td>\n",
              "      <td>311.219039</td>\n",
              "      <td>5.740497</td>\n",
              "      <td>-7.708265</td>\n",
              "      <td>-1.981226</td>\n",
              "      <td>-1.967768</td>\n",
              "      <td>-0.591550</td>\n",
              "    </tr>\n",
              "    <tr>\n",
              "      <th>16</th>\n",
              "      <td>0.1379</td>\n",
              "      <td>221.08</td>\n",
              "      <td>0.168978</td>\n",
              "      <td>0.227724</td>\n",
              "      <td>0.000992</td>\n",
              "      <td>0.276140</td>\n",
              "      <td>0.689840</td>\n",
              "      <td>278.435229</td>\n",
              "      <td>5.629185</td>\n",
              "      <td>-6.916034</td>\n",
              "      <td>-1.981226</td>\n",
              "      <td>-1.286849</td>\n",
              "      <td>-0.371296</td>\n",
              "    </tr>\n",
              "    <tr>\n",
              "      <th>17</th>\n",
              "      <td>0.1379</td>\n",
              "      <td>320.66</td>\n",
              "      <td>0.267768</td>\n",
              "      <td>0.361586</td>\n",
              "      <td>0.001573</td>\n",
              "      <td>0.400520</td>\n",
              "      <td>0.814220</td>\n",
              "      <td>254.559265</td>\n",
              "      <td>5.539534</td>\n",
              "      <td>-6.454526</td>\n",
              "      <td>-1.981226</td>\n",
              "      <td>-0.914992</td>\n",
              "      <td>-0.205525</td>\n",
              "    </tr>\n",
              "  </tbody>\n",
              "</table>\n",
              "</div>"
            ],
            "text/plain": [
              "    s3 (Mpa)  Carga (kgf)  LVDT-A (mm)  ...     ln_s3     ln_sd    ln_oct\n",
              "0     0.0207        17.88     0.011142  ... -3.877622 -3.801691 -2.471797\n",
              "1     0.0207        36.50     0.028317  ... -3.877622 -3.088061 -2.228496\n",
              "2     0.0207        50.86     0.045420  ... -3.877622 -2.756297 -2.074441\n",
              "3     0.0345        29.10     0.020936  ... -3.366796 -3.314635 -1.967204\n",
              "4     0.0345        56.89     0.051595  ... -3.366796 -2.644254 -1.745496\n",
              "5     0.0345        84.84     0.092686  ... -3.366796 -2.244606 -1.563178\n",
              "6     0.0504        41.10     0.031014  ... -2.987764 -2.969366 -1.596838\n",
              "7     0.0504        83.11     0.084596  ... -2.987764 -2.265209 -1.366459\n",
              "8     0.0504       124.85     0.142363  ... -2.987764 -1.858261 -1.180440\n",
              "9     0.0689        57.10     0.048685  ... -2.675099 -2.640570 -1.280060\n",
              "10    0.0689       110.54     0.113835  ... -2.675099 -1.979996 -1.064878\n",
              "11    0.0689       166.65     0.173520  ... -2.675099 -1.569478 -0.879829\n",
              "12    0.1029        83.37     0.061105  ... -2.273998 -2.262085 -0.884712\n",
              "13    0.1029       166.49     0.143481  ... -2.273998 -1.570438 -0.660382\n",
              "14    0.1029       248.08     0.219083  ... -2.273998 -1.171622 -0.480355\n",
              "15    0.1379       111.90     0.075516  ... -1.981226 -1.967768 -0.591550\n",
              "16    0.1379       221.08     0.168978  ... -1.981226 -1.286849 -0.371296\n",
              "17    0.1379       320.66     0.267768  ... -1.981226 -0.914992 -0.205525\n",
              "\n",
              "[18 rows x 13 columns]"
            ]
          },
          "metadata": {
            "tags": []
          },
          "execution_count": 10
        }
      ]
    },
    {
      "cell_type": "code",
      "metadata": {
        "id": "UthZ0hkzcxlD"
      },
      "source": [
        "#regressão linear dos parâmetro na base ln\r\n",
        "y_e = df.iloc[:, 9].values\r\n",
        "y_mr = df.iloc[:, 8].values"
      ],
      "execution_count": 11,
      "outputs": []
    },
    {
      "cell_type": "code",
      "metadata": {
        "id": "YwT75AbKbxct"
      },
      "source": [
        "x_s3 = df.iloc[:, 10].values\r\n",
        "x_s3 = x_s3.reshape(-1,1)\r\n",
        "x_sd = df.iloc[:, 11].values\r\n",
        "x_sd = x_sd.reshape(-1,1)\r\n",
        "x_oct = df.iloc[:, 12].values\r\n",
        "x_oct = x_oct.reshape(-1,1)\r\n",
        "x_comp = df.iloc[:, 10:12].values"
      ],
      "execution_count": 12,
      "outputs": []
    },
    {
      "cell_type": "code",
      "metadata": {
        "colab": {
          "base_uri": "https://localhost:8080/"
        },
        "id": "p8KENHUJXnbH",
        "outputId": "64ddc1b5-0c29-4284-a790-688d2a9b4f58"
      },
      "source": [
        "from sklearn.linear_model import LinearRegression\r\n",
        "regressor_s3 = LinearRegression()\r\n",
        "regressor_sd = LinearRegression()\r\n",
        "regressor_oct = LinearRegression()\r\n",
        "regressor_comp = LinearRegression()\r\n",
        "regressor_s3.fit(x_s3, y_mr)\r\n",
        "regressor_sd.fit(x_sd, y_e)\r\n",
        "regressor_oct.fit(x_oct, y_mr)\r\n",
        "regressor_comp.fit(x_comp, y_e)"
      ],
      "execution_count": 13,
      "outputs": [
        {
          "output_type": "execute_result",
          "data": {
            "text/plain": [
              "LinearRegression(copy_X=True, fit_intercept=True, n_jobs=None, normalize=False)"
            ]
          },
          "metadata": {
            "tags": []
          },
          "execution_count": 13
        }
      ]
    },
    {
      "cell_type": "markdown",
      "metadata": {
        "id": "bSQ4XoNZj5pH"
      },
      "source": [
        "Regressão com k3 e k4 iguais a zero"
      ]
    },
    {
      "cell_type": "code",
      "metadata": {
        "id": "_f1DNWmkkAVm"
      },
      "source": [
        "k1_s3 = regressor_s3.intercept_\r\n",
        "k2 = regressor_s3.coef_[0]"
      ],
      "execution_count": 14,
      "outputs": []
    },
    {
      "cell_type": "code",
      "metadata": {
        "colab": {
          "base_uri": "https://localhost:8080/"
        },
        "id": "esWKMApfba12",
        "outputId": "d192240d-03c9-4092-f4b9-b6e048b1c4c1"
      },
      "source": [
        "print(f'Interseção:{k1_s3}, Variável X1:{k2}')"
      ],
      "execution_count": 15,
      "outputs": [
        {
          "output_type": "stream",
          "text": [
            "Interseção:5.425703531844281, Variável X1:-0.04696997295331014\n"
          ],
          "name": "stdout"
        }
      ]
    },
    {
      "cell_type": "markdown",
      "metadata": {
        "id": "1lcGZ-QvmNd3"
      },
      "source": [
        "Regressão com k2 e k4 iguais a zero"
      ]
    },
    {
      "cell_type": "code",
      "metadata": {
        "id": "wgbLIvSSlXF2"
      },
      "source": [
        "k1_sd = regressor_sd.intercept_\r\n",
        "k3 = regressor_sd.coef_[0]"
      ],
      "execution_count": 16,
      "outputs": []
    },
    {
      "cell_type": "code",
      "metadata": {
        "colab": {
          "base_uri": "https://localhost:8080/"
        },
        "id": "RVhrfaZLbbbl",
        "outputId": "0900973c-3e86-4689-981a-6bc72e32c559"
      },
      "source": [
        "print(f'Interseção:{k1_sd}, Variável X1:{k3}')"
      ],
      "execution_count": 17,
      "outputs": [
        {
          "output_type": "stream",
          "text": [
            "Interseção:-5.260094063315589, Variável X1:1.1339580636220585\n"
          ],
          "name": "stdout"
        }
      ]
    },
    {
      "cell_type": "markdown",
      "metadata": {
        "id": "yYKGPbNxmgka"
      },
      "source": [
        "Regressão com k2 e k3 iguais a zero"
      ]
    },
    {
      "cell_type": "code",
      "metadata": {
        "id": "G7FiN184lbfa"
      },
      "source": [
        "k1_oct = regressor_oct.intercept_\r\n",
        "k4 = regressor_oct.coef_[0]"
      ],
      "execution_count": 18,
      "outputs": []
    },
    {
      "cell_type": "code",
      "metadata": {
        "colab": {
          "base_uri": "https://localhost:8080/"
        },
        "id": "qOjDfGGKcjpq",
        "outputId": "21aaf2e2-e297-4d26-ebd6-f738fc908a2d"
      },
      "source": [
        "print(f'Interseção:{k1_oct}, Variável X1:{k4}')\r\n"
      ],
      "execution_count": 19,
      "outputs": [
        {
          "output_type": "stream",
          "text": [
            "Interseção:5.43989427753686, Variável X1:-0.09565027404390317\n"
          ],
          "name": "stdout"
        }
      ]
    },
    {
      "cell_type": "markdown",
      "metadata": {
        "id": "KT1CMoAtmt-y"
      },
      "source": [
        "Regressão do modelo composto com k4 igual a zero"
      ]
    },
    {
      "cell_type": "code",
      "metadata": {
        "id": "eBZ8Qx0gg295"
      },
      "source": [
        "k1_comp = regressor_comp.intercept_\r\n",
        "k2_comp = regressor_comp.coef_[0]\r\n",
        "k3_comp = regressor_comp.coef_[1]"
      ],
      "execution_count": 20,
      "outputs": []
    },
    {
      "cell_type": "code",
      "metadata": {
        "colab": {
          "base_uri": "https://localhost:8080/"
        },
        "id": "fSaGUkdUeG_C",
        "outputId": "b2aafd37-da06-4941-8fa9-0b6ad92e9f2a"
      },
      "source": [
        "print(f'Interseção:{k1_comp}, Variável X1:{k2_comp}, Variável X2:{k3_comp}')"
      ],
      "execution_count": 21,
      "outputs": [
        {
          "output_type": "stream",
          "text": [
            "Interseção:-5.582096317776629, Variável X1:-0.24191591364873088, Variável X2:1.2991835658162438\n"
          ],
          "name": "stdout"
        }
      ]
    },
    {
      "cell_type": "markdown",
      "metadata": {
        "id": "bDJQOYmwe6E3"
      },
      "source": [
        "Tranformação para parâmetros potênciais"
      ]
    },
    {
      "cell_type": "code",
      "metadata": {
        "id": "vvNWhIt1kWOe"
      },
      "source": [
        "#modelo dependente da tensão de confinamento\r\n",
        "K1_s3 = float(exp(k1_s3))\r\n",
        "K2 = k2"
      ],
      "execution_count": 22,
      "outputs": []
    },
    {
      "cell_type": "code",
      "metadata": {
        "id": "11pvzpyzqEKy",
        "colab": {
          "base_uri": "https://localhost:8080/"
        },
        "outputId": "417993b6-c0c0-494c-b7f0-760d4f2e379a"
      },
      "source": [
        "print(f'MR = {K1_s3}*s3^{K2:.4}')"
      ],
      "execution_count": 23,
      "outputs": [
        {
          "output_type": "stream",
          "text": [
            "MR = 227.17111222003487*s3^-0.04697\n"
          ],
          "name": "stdout"
        }
      ]
    },
    {
      "cell_type": "code",
      "metadata": {
        "id": "zFCps045oeyf"
      },
      "source": [
        "#modelo dependente da tensão desvio\r\n",
        "K1_sd = 1/exp(k1_sd)\r\n",
        "K3 = 1-k3"
      ],
      "execution_count": 24,
      "outputs": []
    },
    {
      "cell_type": "code",
      "metadata": {
        "colab": {
          "base_uri": "https://localhost:8080/"
        },
        "id": "LwNJlecgpFxm",
        "outputId": "3c4f9976-b289-4534-f603-fc7b7a621c45"
      },
      "source": [
        "print(f'MR = {K1_sd}*sd^{K3:.4}')"
      ],
      "execution_count": 25,
      "outputs": [
        {
          "output_type": "stream",
          "text": [
            "MR = 192.49959759606244*sd^-0.134\n"
          ],
          "name": "stdout"
        }
      ]
    },
    {
      "cell_type": "code",
      "metadata": {
        "id": "FHg2x21Mo6pu"
      },
      "source": [
        "#modelo dependente do invariante de tensões\r\n",
        "K1_oct = exp(k1_oct)\r\n",
        "K4 = k4"
      ],
      "execution_count": 26,
      "outputs": []
    },
    {
      "cell_type": "code",
      "metadata": {
        "id": "mnqwvv3Ns-jK",
        "colab": {
          "base_uri": "https://localhost:8080/"
        },
        "outputId": "f351de7e-7ad1-402b-b1d0-a3b973dfa73a"
      },
      "source": [
        "print(f'MR = {K1_oct}*oct^{K4:.4}')"
      ],
      "execution_count": 27,
      "outputs": [
        {
          "output_type": "stream",
          "text": [
            "MR = 230.4178218332036*oct^-0.09565\n"
          ],
          "name": "stdout"
        }
      ]
    },
    {
      "cell_type": "code",
      "metadata": {
        "id": "NPRt-faUrj0v"
      },
      "source": [
        "#modelo composto\r\n",
        "K1_comp = 1/exp(k1_comp)\r\n",
        "K2_comp = -k2_comp\r\n",
        "K3_comp = 1-k3_comp"
      ],
      "execution_count": 28,
      "outputs": []
    },
    {
      "cell_type": "code",
      "metadata": {
        "colab": {
          "base_uri": "https://localhost:8080/"
        },
        "id": "-nvYFyrasDht",
        "outputId": "b41a39b9-93a1-43d5-cd43-2ec9e69b9dc3"
      },
      "source": [
        "print(f'MR = {K1_comp}*s3^{K2_comp:.4}*sd^{K3_comp:.4}')"
      ],
      "execution_count": 29,
      "outputs": [
        {
          "output_type": "stream",
          "text": [
            "MR = 265.6278629476959*s3^0.2419*sd^-0.2992\n"
          ],
          "name": "stdout"
        }
      ]
    }
  ]
}