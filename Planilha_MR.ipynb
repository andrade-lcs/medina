{
 "cells": [
  {
   "cell_type": "code",
   "execution_count": 1,
   "metadata": {
    "id": "u-BxnpDUGIbX"
   },
   "outputs": [],
   "source": [
    "import pandas as pd\n",
    "import matplotlib.pyplot as plt\n",
    "from math import pi, log, exp"
   ]
  },
  {
   "cell_type": "markdown",
   "metadata": {
    "id": "g4lG0vSPnRCp"
   },
   "source": [
    "Importação dos resultados do ensaio"
   ]
  },
  {
   "cell_type": "code",
   "execution_count": 5,
   "metadata": {
    "id": "WQnwO89OGSfT"
   },
   "outputs": [
    {
     "ename": "FileNotFoundError",
     "evalue": "[Errno 2] No such file or directory: 'D:/Usuario/Documents/MeusDados/modulo_resiliencia/modelo.csv'",
     "output_type": "error",
     "traceback": [
      "\u001b[1;31m---------------------------------------------------------------------------\u001b[0m",
      "\u001b[1;31mFileNotFoundError\u001b[0m                         Traceback (most recent call last)",
      "\u001b[1;32m<ipython-input-5-9b46fd4183ef>\u001b[0m in \u001b[0;36m<module>\u001b[1;34m\u001b[0m\n\u001b[1;32m----> 1\u001b[1;33m \u001b[0mdf\u001b[0m \u001b[1;33m=\u001b[0m \u001b[0mpd\u001b[0m\u001b[1;33m.\u001b[0m\u001b[0mread_csv\u001b[0m\u001b[1;33m(\u001b[0m\u001b[1;34m'D:/Usuario/Documents/MeusDados/modulo_resiliencia/modelo.csv'\u001b[0m\u001b[1;33m,\u001b[0m \u001b[0msep\u001b[0m\u001b[1;33m=\u001b[0m\u001b[1;34m';'\u001b[0m\u001b[1;33m)\u001b[0m\u001b[1;33m\u001b[0m\u001b[1;33m\u001b[0m\u001b[0m\n\u001b[0m",
      "\u001b[1;32mC:\\ProgramData\\Anaconda3\\lib\\site-packages\\pandas\\io\\parsers.py\u001b[0m in \u001b[0;36mread_csv\u001b[1;34m(filepath_or_buffer, sep, delimiter, header, names, index_col, usecols, squeeze, prefix, mangle_dupe_cols, dtype, engine, converters, true_values, false_values, skipinitialspace, skiprows, skipfooter, nrows, na_values, keep_default_na, na_filter, verbose, skip_blank_lines, parse_dates, infer_datetime_format, keep_date_col, date_parser, dayfirst, cache_dates, iterator, chunksize, compression, thousands, decimal, lineterminator, quotechar, quoting, doublequote, escapechar, comment, encoding, dialect, error_bad_lines, warn_bad_lines, delim_whitespace, low_memory, memory_map, float_precision)\u001b[0m\n\u001b[0;32m    684\u001b[0m     )\n\u001b[0;32m    685\u001b[0m \u001b[1;33m\u001b[0m\u001b[0m\n\u001b[1;32m--> 686\u001b[1;33m     \u001b[1;32mreturn\u001b[0m \u001b[0m_read\u001b[0m\u001b[1;33m(\u001b[0m\u001b[0mfilepath_or_buffer\u001b[0m\u001b[1;33m,\u001b[0m \u001b[0mkwds\u001b[0m\u001b[1;33m)\u001b[0m\u001b[1;33m\u001b[0m\u001b[1;33m\u001b[0m\u001b[0m\n\u001b[0m\u001b[0;32m    687\u001b[0m \u001b[1;33m\u001b[0m\u001b[0m\n\u001b[0;32m    688\u001b[0m \u001b[1;33m\u001b[0m\u001b[0m\n",
      "\u001b[1;32mC:\\ProgramData\\Anaconda3\\lib\\site-packages\\pandas\\io\\parsers.py\u001b[0m in \u001b[0;36m_read\u001b[1;34m(filepath_or_buffer, kwds)\u001b[0m\n\u001b[0;32m    450\u001b[0m \u001b[1;33m\u001b[0m\u001b[0m\n\u001b[0;32m    451\u001b[0m     \u001b[1;31m# Create the parser.\u001b[0m\u001b[1;33m\u001b[0m\u001b[1;33m\u001b[0m\u001b[1;33m\u001b[0m\u001b[0m\n\u001b[1;32m--> 452\u001b[1;33m     \u001b[0mparser\u001b[0m \u001b[1;33m=\u001b[0m \u001b[0mTextFileReader\u001b[0m\u001b[1;33m(\u001b[0m\u001b[0mfp_or_buf\u001b[0m\u001b[1;33m,\u001b[0m \u001b[1;33m**\u001b[0m\u001b[0mkwds\u001b[0m\u001b[1;33m)\u001b[0m\u001b[1;33m\u001b[0m\u001b[1;33m\u001b[0m\u001b[0m\n\u001b[0m\u001b[0;32m    453\u001b[0m \u001b[1;33m\u001b[0m\u001b[0m\n\u001b[0;32m    454\u001b[0m     \u001b[1;32mif\u001b[0m \u001b[0mchunksize\u001b[0m \u001b[1;32mor\u001b[0m \u001b[0miterator\u001b[0m\u001b[1;33m:\u001b[0m\u001b[1;33m\u001b[0m\u001b[1;33m\u001b[0m\u001b[0m\n",
      "\u001b[1;32mC:\\ProgramData\\Anaconda3\\lib\\site-packages\\pandas\\io\\parsers.py\u001b[0m in \u001b[0;36m__init__\u001b[1;34m(self, f, engine, **kwds)\u001b[0m\n\u001b[0;32m    944\u001b[0m             \u001b[0mself\u001b[0m\u001b[1;33m.\u001b[0m\u001b[0moptions\u001b[0m\u001b[1;33m[\u001b[0m\u001b[1;34m\"has_index_names\"\u001b[0m\u001b[1;33m]\u001b[0m \u001b[1;33m=\u001b[0m \u001b[0mkwds\u001b[0m\u001b[1;33m[\u001b[0m\u001b[1;34m\"has_index_names\"\u001b[0m\u001b[1;33m]\u001b[0m\u001b[1;33m\u001b[0m\u001b[1;33m\u001b[0m\u001b[0m\n\u001b[0;32m    945\u001b[0m \u001b[1;33m\u001b[0m\u001b[0m\n\u001b[1;32m--> 946\u001b[1;33m         \u001b[0mself\u001b[0m\u001b[1;33m.\u001b[0m\u001b[0m_make_engine\u001b[0m\u001b[1;33m(\u001b[0m\u001b[0mself\u001b[0m\u001b[1;33m.\u001b[0m\u001b[0mengine\u001b[0m\u001b[1;33m)\u001b[0m\u001b[1;33m\u001b[0m\u001b[1;33m\u001b[0m\u001b[0m\n\u001b[0m\u001b[0;32m    947\u001b[0m \u001b[1;33m\u001b[0m\u001b[0m\n\u001b[0;32m    948\u001b[0m     \u001b[1;32mdef\u001b[0m \u001b[0mclose\u001b[0m\u001b[1;33m(\u001b[0m\u001b[0mself\u001b[0m\u001b[1;33m)\u001b[0m\u001b[1;33m:\u001b[0m\u001b[1;33m\u001b[0m\u001b[1;33m\u001b[0m\u001b[0m\n",
      "\u001b[1;32mC:\\ProgramData\\Anaconda3\\lib\\site-packages\\pandas\\io\\parsers.py\u001b[0m in \u001b[0;36m_make_engine\u001b[1;34m(self, engine)\u001b[0m\n\u001b[0;32m   1176\u001b[0m     \u001b[1;32mdef\u001b[0m \u001b[0m_make_engine\u001b[0m\u001b[1;33m(\u001b[0m\u001b[0mself\u001b[0m\u001b[1;33m,\u001b[0m \u001b[0mengine\u001b[0m\u001b[1;33m=\u001b[0m\u001b[1;34m\"c\"\u001b[0m\u001b[1;33m)\u001b[0m\u001b[1;33m:\u001b[0m\u001b[1;33m\u001b[0m\u001b[1;33m\u001b[0m\u001b[0m\n\u001b[0;32m   1177\u001b[0m         \u001b[1;32mif\u001b[0m \u001b[0mengine\u001b[0m \u001b[1;33m==\u001b[0m \u001b[1;34m\"c\"\u001b[0m\u001b[1;33m:\u001b[0m\u001b[1;33m\u001b[0m\u001b[1;33m\u001b[0m\u001b[0m\n\u001b[1;32m-> 1178\u001b[1;33m             \u001b[0mself\u001b[0m\u001b[1;33m.\u001b[0m\u001b[0m_engine\u001b[0m \u001b[1;33m=\u001b[0m \u001b[0mCParserWrapper\u001b[0m\u001b[1;33m(\u001b[0m\u001b[0mself\u001b[0m\u001b[1;33m.\u001b[0m\u001b[0mf\u001b[0m\u001b[1;33m,\u001b[0m \u001b[1;33m**\u001b[0m\u001b[0mself\u001b[0m\u001b[1;33m.\u001b[0m\u001b[0moptions\u001b[0m\u001b[1;33m)\u001b[0m\u001b[1;33m\u001b[0m\u001b[1;33m\u001b[0m\u001b[0m\n\u001b[0m\u001b[0;32m   1179\u001b[0m         \u001b[1;32melse\u001b[0m\u001b[1;33m:\u001b[0m\u001b[1;33m\u001b[0m\u001b[1;33m\u001b[0m\u001b[0m\n\u001b[0;32m   1180\u001b[0m             \u001b[1;32mif\u001b[0m \u001b[0mengine\u001b[0m \u001b[1;33m==\u001b[0m \u001b[1;34m\"python\"\u001b[0m\u001b[1;33m:\u001b[0m\u001b[1;33m\u001b[0m\u001b[1;33m\u001b[0m\u001b[0m\n",
      "\u001b[1;32mC:\\ProgramData\\Anaconda3\\lib\\site-packages\\pandas\\io\\parsers.py\u001b[0m in \u001b[0;36m__init__\u001b[1;34m(self, src, **kwds)\u001b[0m\n\u001b[0;32m   2006\u001b[0m         \u001b[0mkwds\u001b[0m\u001b[1;33m[\u001b[0m\u001b[1;34m\"usecols\"\u001b[0m\u001b[1;33m]\u001b[0m \u001b[1;33m=\u001b[0m \u001b[0mself\u001b[0m\u001b[1;33m.\u001b[0m\u001b[0musecols\u001b[0m\u001b[1;33m\u001b[0m\u001b[1;33m\u001b[0m\u001b[0m\n\u001b[0;32m   2007\u001b[0m \u001b[1;33m\u001b[0m\u001b[0m\n\u001b[1;32m-> 2008\u001b[1;33m         \u001b[0mself\u001b[0m\u001b[1;33m.\u001b[0m\u001b[0m_reader\u001b[0m \u001b[1;33m=\u001b[0m \u001b[0mparsers\u001b[0m\u001b[1;33m.\u001b[0m\u001b[0mTextReader\u001b[0m\u001b[1;33m(\u001b[0m\u001b[0msrc\u001b[0m\u001b[1;33m,\u001b[0m \u001b[1;33m**\u001b[0m\u001b[0mkwds\u001b[0m\u001b[1;33m)\u001b[0m\u001b[1;33m\u001b[0m\u001b[1;33m\u001b[0m\u001b[0m\n\u001b[0m\u001b[0;32m   2009\u001b[0m         \u001b[0mself\u001b[0m\u001b[1;33m.\u001b[0m\u001b[0munnamed_cols\u001b[0m \u001b[1;33m=\u001b[0m \u001b[0mself\u001b[0m\u001b[1;33m.\u001b[0m\u001b[0m_reader\u001b[0m\u001b[1;33m.\u001b[0m\u001b[0munnamed_cols\u001b[0m\u001b[1;33m\u001b[0m\u001b[1;33m\u001b[0m\u001b[0m\n\u001b[0;32m   2010\u001b[0m \u001b[1;33m\u001b[0m\u001b[0m\n",
      "\u001b[1;32mpandas\\_libs\\parsers.pyx\u001b[0m in \u001b[0;36mpandas._libs.parsers.TextReader.__cinit__\u001b[1;34m()\u001b[0m\n",
      "\u001b[1;32mpandas\\_libs\\parsers.pyx\u001b[0m in \u001b[0;36mpandas._libs.parsers.TextReader._setup_parser_source\u001b[1;34m()\u001b[0m\n",
      "\u001b[1;31mFileNotFoundError\u001b[0m: [Errno 2] No such file or directory: 'D:/Usuario/Documents/MeusDados/modulo_resiliencia/modelo.csv'"
     ]
    }
   ],
   "source": [
    "df = pd.read_csv('D:/Usuario/Documents/MeusDados/modulo_resiliencia/modelo.csv', sep=';')"
   ]
  },
  {
   "cell_type": "code",
   "execution_count": null,
   "metadata": {},
   "outputs": [],
   "source": [
    "df"
   ]
  },
  {
   "cell_type": "markdown",
   "metadata": {
    "id": "F3FCHMXdeqPn"
   },
   "source": [
    "Calculo dos resultados"
   ]
  },
  {
   "cell_type": "code",
   "execution_count": null,
   "metadata": {
    "id": "HfcswZkOO389"
   },
   "outputs": [],
   "source": [
    "e_list = list()\n",
    "sd_list = list()\n",
    "mr_list = list()\n",
    "oct_list = list()\n",
    "for i in df.index:\n",
    "    e = (float(df['LVDT-A (mm)'][i])+float(df['LVDT-B (mm)'][i]))/2/200\n",
    "    sd =  (float(df['Carga (kgf)'][i])*9.81)/(100**2*pi/4)\n",
    "    mr = sd/e\n",
    "    oct = (sd+3*float(df['s3 (MPa)'][i]))\n",
    "    e_list.append(e)\n",
    "    sd_list.append(sd)\n",
    "    mr_list.append(mr)\n",
    "    oct_list.append(oct)\n",
    "df['e'] = e_list\n",
    "df['sd (MPa)'] = sd_list\n",
    "df['oct (MPa)'] = oct_list\n",
    "df['MR (MPa)'] = mr_list\n"
   ]
  },
  {
   "cell_type": "code",
   "execution_count": null,
   "metadata": {},
   "outputs": [],
   "source": [
    "df_result = df.copy()"
   ]
  },
  {
   "cell_type": "markdown",
   "metadata": {
    "id": "XHAP0O3InnQu"
   },
   "source": [
    "Preparação para regressão potêncial"
   ]
  },
  {
   "cell_type": "code",
   "execution_count": null,
   "metadata": {
    "id": "Gx5IIxXBR16V"
   },
   "outputs": [],
   "source": [
    "#transformação dos parâmetros de entrada para a base ln\n",
    "ln_mr_list = list()\n",
    "ln_e_list = list()\n",
    "ln_s3_list = list()\n",
    "ln_sd_list = list()\n",
    "ln_oct_list = list()\n",
    "for i in df.index:\n",
    "    ln_mr = log(float(df['MR (MPa)'][i]))\n",
    "    ln_e = log(float(df['e'][i]))\n",
    "    ln_s3 = log(float(df['s3 (MPa)'][i]))\n",
    "    ln_sd = log(float(df['sd (MPa)'][i]))\n",
    "    ln_oct = log(float(df['oct (MPa)'][i]))\n",
    "    ln_mr_list.append(ln_mr)\n",
    "    ln_e_list.append(ln_e)\n",
    "    ln_s3_list.append(ln_s3)\n",
    "    ln_sd_list.append(ln_sd)\n",
    "    ln_oct_list.append(ln_oct)\n",
    "df['ln_mr'] = ln_mr_list\n",
    "df['ln_e'] = ln_e_list\n",
    "df['ln_s3'] = ln_s3_list\n",
    "df['ln_sd'] = ln_sd_list\n",
    "df['ln_oct'] = ln_oct_list"
   ]
  },
  {
   "cell_type": "code",
   "execution_count": null,
   "metadata": {
    "id": "UthZ0hkzcxlD"
   },
   "outputs": [],
   "source": [
    "#regressão linear dos parâmetro na base ln\n",
    "y_e = df.iloc[:, 9].values\n",
    "y_mr = df.iloc[:, 8].values"
   ]
  },
  {
   "cell_type": "code",
   "execution_count": null,
   "metadata": {
    "id": "YwT75AbKbxct"
   },
   "outputs": [],
   "source": [
    "x_s3 = df.iloc[:, 10].values\n",
    "x_s3 = x_s3.reshape(-1,1)\n",
    "x_sd = df.iloc[:, 11].values\n",
    "x_sd = x_sd.reshape(-1,1)\n",
    "x_oct = df.iloc[:, 12].values\n",
    "x_oct = x_oct.reshape(-1,1)\n",
    "x_comp = df.iloc[:, 10:12].values"
   ]
  },
  {
   "cell_type": "code",
   "execution_count": null,
   "metadata": {
    "colab": {
     "base_uri": "https://localhost:8080/"
    },
    "id": "p8KENHUJXnbH",
    "outputId": "0e29af93-eeb5-43cd-be42-ab5081298a6b"
   },
   "outputs": [],
   "source": [
    "from sklearn.linear_model import LinearRegression\n",
    "regressor_s3 = LinearRegression()\n",
    "regressor_sd = LinearRegression()\n",
    "regressor_oct = LinearRegression()\n",
    "regressor_comp = LinearRegression()\n",
    "regressor_s3.fit(x_s3, y_mr)\n",
    "regressor_sd.fit(x_sd, y_e)\n",
    "regressor_oct.fit(x_oct, y_mr)\n",
    "regressor_comp.fit(x_comp, y_e)"
   ]
  },
  {
   "cell_type": "markdown",
   "metadata": {
    "id": "bSQ4XoNZj5pH"
   },
   "source": [
    "Regressão com k3 e k4 iguais a zero"
   ]
  },
  {
   "cell_type": "code",
   "execution_count": null,
   "metadata": {
    "id": "_f1DNWmkkAVm"
   },
   "outputs": [],
   "source": [
    "k1_s3 = regressor_s3.intercept_\n",
    "k2 = regressor_s3.coef_[0]\n",
    "print(f'Interseção:{k1_s3}, Variável X1:{k2}')"
   ]
  },
  {
   "cell_type": "markdown",
   "metadata": {
    "id": "1lcGZ-QvmNd3"
   },
   "source": [
    "Regressão com k2 e k4 iguais a zero"
   ]
  },
  {
   "cell_type": "code",
   "execution_count": null,
   "metadata": {
    "id": "wgbLIvSSlXF2"
   },
   "outputs": [],
   "source": [
    "k1_sd = regressor_sd.intercept_\n",
    "k3 = regressor_sd.coef_[0]\n",
    "print(f'Interseção:{k1_sd}, Variável X1:{k3}')"
   ]
  },
  {
   "cell_type": "markdown",
   "metadata": {
    "id": "yYKGPbNxmgka"
   },
   "source": [
    "Regressão com k2 e k3 iguais a zero"
   ]
  },
  {
   "cell_type": "code",
   "execution_count": null,
   "metadata": {
    "id": "G7FiN184lbfa"
   },
   "outputs": [],
   "source": [
    "k1_oct = regressor_oct.intercept_\n",
    "k4 = regressor_oct.coef_[0]\n",
    "print(f'Interseção:{k1_oct}, Variável X1:{k4}')"
   ]
  },
  {
   "cell_type": "markdown",
   "metadata": {
    "id": "KT1CMoAtmt-y"
   },
   "source": [
    "Regressão do modelo composto com k4 igual a zero"
   ]
  },
  {
   "cell_type": "code",
   "execution_count": null,
   "metadata": {
    "id": "eBZ8Qx0gg295"
   },
   "outputs": [],
   "source": [
    "k1_comp = regressor_comp.intercept_\n",
    "k2_comp = regressor_comp.coef_[0]\n",
    "k3_comp = regressor_comp.coef_[1]\n",
    "print(f'Interseção:{k1_comp}, Variável X1:{k2_comp}, Variável X2:{k3_comp}')"
   ]
  },
  {
   "cell_type": "markdown",
   "metadata": {
    "id": "bDJQOYmwe6E3"
   },
   "source": [
    "Tranformação para parâmetros potênciais"
   ]
  },
  {
   "cell_type": "code",
   "execution_count": null,
   "metadata": {
    "id": "vvNWhIt1kWOe"
   },
   "outputs": [],
   "source": [
    "#modelo dependente da tensão de confinamento\n",
    "K1_s3 = float(exp(k1_s3))\n",
    "K2 = k2\n",
    "eq_s3 = (f'MR = {K1_s3:.0f}*s3^{K2:.4f}')\n",
    "print(eq_s3)\n",
    "score_s3 = regressor_s3.score(x_s3, y_mr)\n",
    "print(f'R² = {score_s3:.2}')"
   ]
  },
  {
   "cell_type": "code",
   "execution_count": null,
   "metadata": {
    "id": "zFCps045oeyf"
   },
   "outputs": [],
   "source": [
    "#modelo dependente da tensão desvio\n",
    "K1_sd = 1/exp(k1_sd)\n",
    "K3 = 1-k3\n",
    "eq_sd = (f'MR = {K1_sd:.0f}*sd^{K3:.4f}')\n",
    "print(eq_sd)\n",
    "score_sd = regressor_sd.score(x_sd, y_e)\n",
    "print(f'R² = {score_sd:.2}')"
   ]
  },
  {
   "cell_type": "code",
   "execution_count": null,
   "metadata": {
    "id": "FHg2x21Mo6pu"
   },
   "outputs": [],
   "source": [
    "#modelo dependente do invariante de tensões\n",
    "K1_oct = exp(k1_oct)\n",
    "K4 = k4\n",
    "eq_oct = (f'MR = {K1_oct:.0f}*oct^{K4:.4f}')\n",
    "print(eq_oct)\n",
    "score_oct = regressor_oct.score(x_oct, y_mr)\n",
    "print(f'R² = {score_oct:.2}')"
   ]
  },
  {
   "cell_type": "code",
   "execution_count": null,
   "metadata": {
    "id": "NPRt-faUrj0v"
   },
   "outputs": [],
   "source": [
    "#modelo composto\n",
    "K1_comp = 1/exp(k1_comp)\n",
    "K2_comp = -k2_comp\n",
    "K3_comp = 1-k3_comp\n",
    "eq_comp = (f'MR = {K1_comp:.0f}*s3^{K2_comp:.4f}*sd^{K3_comp:.4f}')\n",
    "print(eq_comp)\n",
    "score_comp = regressor_comp.score(x_comp, y_e)\n",
    "print(f'R² = {score_comp:.2}')"
   ]
  },
  {
   "cell_type": "markdown",
   "metadata": {
    "id": "vOW37ekJ0dG1"
   },
   "source": [
    "Previsões de MR"
   ]
  },
  {
   "cell_type": "code",
   "execution_count": null,
   "metadata": {
    "id": "F_brZywh0cgi"
   },
   "outputs": [],
   "source": [
    "mr_s3_list = list()\n",
    "mr_sd_list = list()\n",
    "mr_oct_list = list()\n",
    "mr_comp_list = list()\n",
    "for i in df.index:\n",
    "    mr_s3_cal = K1_s3*(float(df['s3 (MPa)'][i]))**K2\n",
    "    mr_sd_cal = K1_sd*(float(df['sd (MPa)'][i]))**K3\n",
    "    mr_oct_cal = K1_oct*(float(df['oct (MPa)'][i]))**K4\n",
    "    mr_comp_cal = K1_comp*((float(df['s3 (MPa)'][i]))**K2_comp)*((float(df['sd (MPa)'][i]))**K3_comp)\n",
    "    #print(mr_s3_cal, mr_sd_cal, mr_oct_cal, mr_comp_cal)\n",
    "    mr_s3_list.append(mr_s3_cal)\n",
    "    mr_sd_list.append(mr_sd_cal)\n",
    "    mr_oct_list.append(mr_oct_cal)\n",
    "    mr_comp_list.append(mr_comp_cal)       \n",
    "df['mr_s3_cal'] = mr_s3_list\n",
    "df['mr_sd_cal'] = mr_sd_list\n",
    "df['mr_oct_cal'] = mr_oct_list\n",
    "df['mr_comp_cal'] = mr_comp_list"
   ]
  },
  {
   "cell_type": "markdown",
   "metadata": {},
   "source": [
    "Gráficos"
   ]
  },
  {
   "cell_type": "code",
   "execution_count": null,
   "metadata": {},
   "outputs": [],
   "source": [
    "fig_s3 = plt.figure()\n",
    "x = df.filter(items=['s3 (MPa)'])\n",
    "y = df.filter(items=['MR (MPa)'])\n",
    "y_pre = df.filter(items=['mr_s3_cal'])\n",
    "plt.scatter(x, y, vmin=100)\n",
    "plt.plot(x, y_pre, color='red')\n",
    "plt.title('Módulo de Resiliência')\n",
    "plt.xlabel('Tensão de confinamento')\n",
    "plt.ylabel('Módulo de resiliência')\n",
    "plt.xlim(0,0.15)\n",
    "plt.ylim(0,500)"
   ]
  },
  {
   "cell_type": "code",
   "execution_count": null,
   "metadata": {},
   "outputs": [],
   "source": [
    "fig_sd = plt.figure()\n",
    "x = df.filter(items=['sd (MPa)'])\n",
    "y = df.filter(items=['MR (MPa)'])\n",
    "y_pre = df.filter(items=['mr_sd_cal'])\n",
    "plt.scatter(x, y, vmin=100)\n",
    "plt.plot(x, y_pre, color='red')\n",
    "plt.title('Módulo de Resiliência')\n",
    "plt.xlabel('Tensão de desvio')\n",
    "plt.ylabel('Módulo de resiliência')\n",
    "plt.xlim(0, 0.5)\n",
    "plt.ylim(0, 500)"
   ]
  },
  {
   "cell_type": "code",
   "execution_count": null,
   "metadata": {},
   "outputs": [],
   "source": [
    "fig_oct = plt.figure()\n",
    "x = df.filter(items=['oct (MPa)'])\n",
    "y = df.filter(items=['MR (MPa)'])\n",
    "y_pre = df.filter(items=['mr_oct_cal'])\n",
    "plt.scatter(x, y, vmin=100)\n",
    "plt.plot(x, y_pre, color='red')\n",
    "plt.title('Módulo de Resiliência')\n",
    "plt.xlabel('Invariante de tensão')\n",
    "plt.ylabel('Módulo de resiliência')\n",
    "plt.xlim(0, 0.5)\n",
    "plt.ylim(0, 500)"
   ]
  },
  {
   "cell_type": "markdown",
   "metadata": {
    "id": "hRiMfVg9AhYn"
   },
   "source": [
    "Métricas de avaliação dos modelos"
   ]
  },
  {
   "cell_type": "code",
   "execution_count": null,
   "metadata": {
    "colab": {
     "base_uri": "https://localhost:8080/"
    },
    "id": "S9b565Fd5Bru",
    "outputId": "84db464e-1499-4e3d-add0-0fae7f490ab0"
   },
   "outputs": [],
   "source": [
    "from sklearn.metrics import mean_absolute_error, r2_score, mean_squared_error\n",
    "mae_s3 = mean_absolute_error((df.iloc[:, 7].values), (df.iloc[:, 13].values))\n",
    "msr_s3 = mean_squared_error((df.iloc[:, 7].values), (df.iloc[:, 13].values))\n",
    "r2_s3 = r2_score((df.iloc[:, 7].values), (df.iloc[:, 13].values))\n",
    "print(f'O modelo dependente de s3 tem o R² de {r2_s3:.2f}, o MAE de {mae_s3:.2f} e o MSR de {msr_s3:.2f}.')"
   ]
  },
  {
   "cell_type": "code",
   "execution_count": null,
   "metadata": {
    "colab": {
     "base_uri": "https://localhost:8080/"
    },
    "id": "WMTMt11b5pxw",
    "outputId": "4f10242c-fdf8-4806-9d37-596b1fcc33e0"
   },
   "outputs": [],
   "source": [
    "mae_sd = mean_absolute_error((df.iloc[:, 7].values), (df.iloc[:, 14].values))\n",
    "msr_sd = mean_squared_error((df.iloc[:, 7].values), (df.iloc[:, 14].values))\n",
    "r2_sd = r2_score((df.iloc[:, 7].values), (df.iloc[:, 14].values))\n",
    "print(f'O modelo dependente de sd tem o R² de {r2_sd:.2f}, o MAE de {mae_sd:.2f} e o MSR de {msr_sd:.2f}.')"
   ]
  },
  {
   "cell_type": "code",
   "execution_count": null,
   "metadata": {
    "colab": {
     "base_uri": "https://localhost:8080/"
    },
    "id": "vmz9zHzd9mAb",
    "outputId": "43a703b4-68ed-47f9-b2e1-ad35e835bb2e"
   },
   "outputs": [],
   "source": [
    "mae_oct = mean_absolute_error((df.iloc[:, 7].values), (df.iloc[:, 15].values))\n",
    "msr_oct = mean_squared_error((df.iloc[:, 7].values), (df.iloc[:, 15].values))\n",
    "r2_oct = r2_score((df.iloc[:, 7].values), (df.iloc[:, 15].values))\n",
    "print(f'O modelo dependente de oct tem o R² de {r2_oct:.2f}, o MAE de {mae_oct:.2f} e o MSR de {msr_oct:.2f}.')"
   ]
  },
  {
   "cell_type": "code",
   "execution_count": null,
   "metadata": {
    "colab": {
     "base_uri": "https://localhost:8080/"
    },
    "id": "qKp_X-Zt9t_i",
    "outputId": "d2e84963-e493-4637-e2af-534b212db0bd"
   },
   "outputs": [],
   "source": [
    "mae_comp = mean_absolute_error((df.iloc[:, 7].values), (df.iloc[:, 16].values))\n",
    "msr_comp = mean_squared_error((df.iloc[:, 7].values), (df.iloc[:, 16].values))\n",
    "r2_comp = r2_score((df.iloc[:, 7].values), (df.iloc[:, 16].values))\n",
    "print(f'O modelo composto tem o R² de {r2_comp:.2f}, o MAE de {mae_comp:.2f} e o MSR de {mae_comp:.2f}.')"
   ]
  }
 ],
 "metadata": {
  "colab": {
   "name": "Cópia de Planilha_MR.ipynb",
   "provenance": []
  },
  "kernelspec": {
   "display_name": "Python 3",
   "language": "python",
   "name": "python3"
  },
  "language_info": {
   "codemirror_mode": {
    "name": "ipython",
    "version": 3
   },
   "file_extension": ".py",
   "mimetype": "text/x-python",
   "name": "python",
   "nbconvert_exporter": "python",
   "pygments_lexer": "ipython3",
   "version": "3.8.5"
  }
 },
 "nbformat": 4,
 "nbformat_minor": 1
}
