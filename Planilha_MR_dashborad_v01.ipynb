{
 "cells": [
  {
   "cell_type": "code",
   "execution_count": 2,
   "source": [
    "#!pip install sklearn\r\n",
    "#!pip install dash\r\n",
    "#!pip install dash_bootstrap_components\r\n",
    "#!pip install plotly"
   ],
   "outputs": [],
   "metadata": {
    "id": "Iuuo51jiJuV0"
   }
  },
  {
   "cell_type": "code",
   "execution_count": 1,
   "source": [
    "import pandas as pd\r\n",
    "import matplotlib.pyplot as plt\r\n",
    "from math import pi, log, exp\r\n",
    "import plotly.express as px"
   ],
   "outputs": [],
   "metadata": {
    "id": "u-BxnpDUGIbX"
   }
  },
  {
   "cell_type": "markdown",
   "source": [
    "Importação dos resultados do ensaio"
   ],
   "metadata": {
    "id": "g4lG0vSPnRCp"
   }
  },
  {
   "cell_type": "code",
   "execution_count": 3,
   "source": [
    "df = pd.read_csv('D:/Usuario/Documents/MeusDados/modulo_resiliencia/modelo.xls', sep=';')"
   ],
   "outputs": [
    {
     "output_type": "error",
     "ename": "FileNotFoundError",
     "evalue": "[Errno 2] No such file or directory: 'D:/Usuario/Documents/MeusCodigos/medina/modelo.xls'",
     "traceback": [
      "\u001b[1;31m---------------------------------------------------------------------------\u001b[0m",
      "\u001b[1;31mFileNotFoundError\u001b[0m                         Traceback (most recent call last)",
      "\u001b[1;32m<ipython-input-3-945173d5853d>\u001b[0m in \u001b[0;36m<module>\u001b[1;34m\u001b[0m\n\u001b[1;32m----> 1\u001b[1;33m \u001b[0mdf\u001b[0m \u001b[1;33m=\u001b[0m \u001b[0mpd\u001b[0m\u001b[1;33m.\u001b[0m\u001b[0mread_csv\u001b[0m\u001b[1;33m(\u001b[0m\u001b[1;34m'D:/Usuario/Documents/MeusCodigos/medina/modelo.xls'\u001b[0m\u001b[1;33m,\u001b[0m \u001b[0msep\u001b[0m\u001b[1;33m=\u001b[0m\u001b[1;34m';'\u001b[0m\u001b[1;33m)\u001b[0m\u001b[1;33m\u001b[0m\u001b[1;33m\u001b[0m\u001b[0m\n\u001b[0m",
      "\u001b[1;32mC:\\ProgramData\\Anaconda3\\lib\\site-packages\\pandas\\io\\parsers.py\u001b[0m in \u001b[0;36mread_csv\u001b[1;34m(filepath_or_buffer, sep, delimiter, header, names, index_col, usecols, squeeze, prefix, mangle_dupe_cols, dtype, engine, converters, true_values, false_values, skipinitialspace, skiprows, skipfooter, nrows, na_values, keep_default_na, na_filter, verbose, skip_blank_lines, parse_dates, infer_datetime_format, keep_date_col, date_parser, dayfirst, cache_dates, iterator, chunksize, compression, thousands, decimal, lineterminator, quotechar, quoting, doublequote, escapechar, comment, encoding, dialect, error_bad_lines, warn_bad_lines, delim_whitespace, low_memory, memory_map, float_precision)\u001b[0m\n\u001b[0;32m    684\u001b[0m     )\n\u001b[0;32m    685\u001b[0m \u001b[1;33m\u001b[0m\u001b[0m\n\u001b[1;32m--> 686\u001b[1;33m     \u001b[1;32mreturn\u001b[0m \u001b[0m_read\u001b[0m\u001b[1;33m(\u001b[0m\u001b[0mfilepath_or_buffer\u001b[0m\u001b[1;33m,\u001b[0m \u001b[0mkwds\u001b[0m\u001b[1;33m)\u001b[0m\u001b[1;33m\u001b[0m\u001b[1;33m\u001b[0m\u001b[0m\n\u001b[0m\u001b[0;32m    687\u001b[0m \u001b[1;33m\u001b[0m\u001b[0m\n\u001b[0;32m    688\u001b[0m \u001b[1;33m\u001b[0m\u001b[0m\n",
      "\u001b[1;32mC:\\ProgramData\\Anaconda3\\lib\\site-packages\\pandas\\io\\parsers.py\u001b[0m in \u001b[0;36m_read\u001b[1;34m(filepath_or_buffer, kwds)\u001b[0m\n\u001b[0;32m    450\u001b[0m \u001b[1;33m\u001b[0m\u001b[0m\n\u001b[0;32m    451\u001b[0m     \u001b[1;31m# Create the parser.\u001b[0m\u001b[1;33m\u001b[0m\u001b[1;33m\u001b[0m\u001b[1;33m\u001b[0m\u001b[0m\n\u001b[1;32m--> 452\u001b[1;33m     \u001b[0mparser\u001b[0m \u001b[1;33m=\u001b[0m \u001b[0mTextFileReader\u001b[0m\u001b[1;33m(\u001b[0m\u001b[0mfp_or_buf\u001b[0m\u001b[1;33m,\u001b[0m \u001b[1;33m**\u001b[0m\u001b[0mkwds\u001b[0m\u001b[1;33m)\u001b[0m\u001b[1;33m\u001b[0m\u001b[1;33m\u001b[0m\u001b[0m\n\u001b[0m\u001b[0;32m    453\u001b[0m \u001b[1;33m\u001b[0m\u001b[0m\n\u001b[0;32m    454\u001b[0m     \u001b[1;32mif\u001b[0m \u001b[0mchunksize\u001b[0m \u001b[1;32mor\u001b[0m \u001b[0miterator\u001b[0m\u001b[1;33m:\u001b[0m\u001b[1;33m\u001b[0m\u001b[1;33m\u001b[0m\u001b[0m\n",
      "\u001b[1;32mC:\\ProgramData\\Anaconda3\\lib\\site-packages\\pandas\\io\\parsers.py\u001b[0m in \u001b[0;36m__init__\u001b[1;34m(self, f, engine, **kwds)\u001b[0m\n\u001b[0;32m    944\u001b[0m             \u001b[0mself\u001b[0m\u001b[1;33m.\u001b[0m\u001b[0moptions\u001b[0m\u001b[1;33m[\u001b[0m\u001b[1;34m\"has_index_names\"\u001b[0m\u001b[1;33m]\u001b[0m \u001b[1;33m=\u001b[0m \u001b[0mkwds\u001b[0m\u001b[1;33m[\u001b[0m\u001b[1;34m\"has_index_names\"\u001b[0m\u001b[1;33m]\u001b[0m\u001b[1;33m\u001b[0m\u001b[1;33m\u001b[0m\u001b[0m\n\u001b[0;32m    945\u001b[0m \u001b[1;33m\u001b[0m\u001b[0m\n\u001b[1;32m--> 946\u001b[1;33m         \u001b[0mself\u001b[0m\u001b[1;33m.\u001b[0m\u001b[0m_make_engine\u001b[0m\u001b[1;33m(\u001b[0m\u001b[0mself\u001b[0m\u001b[1;33m.\u001b[0m\u001b[0mengine\u001b[0m\u001b[1;33m)\u001b[0m\u001b[1;33m\u001b[0m\u001b[1;33m\u001b[0m\u001b[0m\n\u001b[0m\u001b[0;32m    947\u001b[0m \u001b[1;33m\u001b[0m\u001b[0m\n\u001b[0;32m    948\u001b[0m     \u001b[1;32mdef\u001b[0m \u001b[0mclose\u001b[0m\u001b[1;33m(\u001b[0m\u001b[0mself\u001b[0m\u001b[1;33m)\u001b[0m\u001b[1;33m:\u001b[0m\u001b[1;33m\u001b[0m\u001b[1;33m\u001b[0m\u001b[0m\n",
      "\u001b[1;32mC:\\ProgramData\\Anaconda3\\lib\\site-packages\\pandas\\io\\parsers.py\u001b[0m in \u001b[0;36m_make_engine\u001b[1;34m(self, engine)\u001b[0m\n\u001b[0;32m   1176\u001b[0m     \u001b[1;32mdef\u001b[0m \u001b[0m_make_engine\u001b[0m\u001b[1;33m(\u001b[0m\u001b[0mself\u001b[0m\u001b[1;33m,\u001b[0m \u001b[0mengine\u001b[0m\u001b[1;33m=\u001b[0m\u001b[1;34m\"c\"\u001b[0m\u001b[1;33m)\u001b[0m\u001b[1;33m:\u001b[0m\u001b[1;33m\u001b[0m\u001b[1;33m\u001b[0m\u001b[0m\n\u001b[0;32m   1177\u001b[0m         \u001b[1;32mif\u001b[0m \u001b[0mengine\u001b[0m \u001b[1;33m==\u001b[0m \u001b[1;34m\"c\"\u001b[0m\u001b[1;33m:\u001b[0m\u001b[1;33m\u001b[0m\u001b[1;33m\u001b[0m\u001b[0m\n\u001b[1;32m-> 1178\u001b[1;33m             \u001b[0mself\u001b[0m\u001b[1;33m.\u001b[0m\u001b[0m_engine\u001b[0m \u001b[1;33m=\u001b[0m \u001b[0mCParserWrapper\u001b[0m\u001b[1;33m(\u001b[0m\u001b[0mself\u001b[0m\u001b[1;33m.\u001b[0m\u001b[0mf\u001b[0m\u001b[1;33m,\u001b[0m \u001b[1;33m**\u001b[0m\u001b[0mself\u001b[0m\u001b[1;33m.\u001b[0m\u001b[0moptions\u001b[0m\u001b[1;33m)\u001b[0m\u001b[1;33m\u001b[0m\u001b[1;33m\u001b[0m\u001b[0m\n\u001b[0m\u001b[0;32m   1179\u001b[0m         \u001b[1;32melse\u001b[0m\u001b[1;33m:\u001b[0m\u001b[1;33m\u001b[0m\u001b[1;33m\u001b[0m\u001b[0m\n\u001b[0;32m   1180\u001b[0m             \u001b[1;32mif\u001b[0m \u001b[0mengine\u001b[0m \u001b[1;33m==\u001b[0m \u001b[1;34m\"python\"\u001b[0m\u001b[1;33m:\u001b[0m\u001b[1;33m\u001b[0m\u001b[1;33m\u001b[0m\u001b[0m\n",
      "\u001b[1;32mC:\\ProgramData\\Anaconda3\\lib\\site-packages\\pandas\\io\\parsers.py\u001b[0m in \u001b[0;36m__init__\u001b[1;34m(self, src, **kwds)\u001b[0m\n\u001b[0;32m   2006\u001b[0m         \u001b[0mkwds\u001b[0m\u001b[1;33m[\u001b[0m\u001b[1;34m\"usecols\"\u001b[0m\u001b[1;33m]\u001b[0m \u001b[1;33m=\u001b[0m \u001b[0mself\u001b[0m\u001b[1;33m.\u001b[0m\u001b[0musecols\u001b[0m\u001b[1;33m\u001b[0m\u001b[1;33m\u001b[0m\u001b[0m\n\u001b[0;32m   2007\u001b[0m \u001b[1;33m\u001b[0m\u001b[0m\n\u001b[1;32m-> 2008\u001b[1;33m         \u001b[0mself\u001b[0m\u001b[1;33m.\u001b[0m\u001b[0m_reader\u001b[0m \u001b[1;33m=\u001b[0m \u001b[0mparsers\u001b[0m\u001b[1;33m.\u001b[0m\u001b[0mTextReader\u001b[0m\u001b[1;33m(\u001b[0m\u001b[0msrc\u001b[0m\u001b[1;33m,\u001b[0m \u001b[1;33m**\u001b[0m\u001b[0mkwds\u001b[0m\u001b[1;33m)\u001b[0m\u001b[1;33m\u001b[0m\u001b[1;33m\u001b[0m\u001b[0m\n\u001b[0m\u001b[0;32m   2009\u001b[0m         \u001b[0mself\u001b[0m\u001b[1;33m.\u001b[0m\u001b[0munnamed_cols\u001b[0m \u001b[1;33m=\u001b[0m \u001b[0mself\u001b[0m\u001b[1;33m.\u001b[0m\u001b[0m_reader\u001b[0m\u001b[1;33m.\u001b[0m\u001b[0munnamed_cols\u001b[0m\u001b[1;33m\u001b[0m\u001b[1;33m\u001b[0m\u001b[0m\n\u001b[0;32m   2010\u001b[0m \u001b[1;33m\u001b[0m\u001b[0m\n",
      "\u001b[1;32mpandas\\_libs\\parsers.pyx\u001b[0m in \u001b[0;36mpandas._libs.parsers.TextReader.__cinit__\u001b[1;34m()\u001b[0m\n",
      "\u001b[1;32mpandas\\_libs\\parsers.pyx\u001b[0m in \u001b[0;36mpandas._libs.parsers.TextReader._setup_parser_source\u001b[1;34m()\u001b[0m\n",
      "\u001b[1;31mFileNotFoundError\u001b[0m: [Errno 2] No such file or directory: 'D:/Usuario/Documents/MeusCodigos/medina/modelo.xls'"
     ]
    }
   ],
   "metadata": {
    "id": "WQnwO89OGSfT"
   }
  },
  {
   "cell_type": "markdown",
   "source": [
    "Calculo dos resultados"
   ],
   "metadata": {
    "id": "F3FCHMXdeqPn"
   }
  },
  {
   "cell_type": "code",
   "execution_count": null,
   "source": [
    "e_list = list()\r\n",
    "sd_list = list()\r\n",
    "mr_list = list()\r\n",
    "oct_list = list()\r\n",
    "for i in df.index:\r\n",
    "    e = (float(df['LVDT-A (mm)'][i])+float(df['LVDT-B (mm)'][i]))/2/200\r\n",
    "    sd =  (float(df['Carga (kgf)'][i])*9.81)/(100**2*pi/4)\r\n",
    "    mr = sd/e\r\n",
    "    oct = (sd+3*float(df['s3 (MPa)'][i]))\r\n",
    "    e_list.append(e)\r\n",
    "    sd_list.append(sd)\r\n",
    "    mr_list.append(mr)\r\n",
    "    oct_list.append(oct)\r\n",
    "df['e'] = e_list\r\n",
    "df['sd (MPa)'] = sd_list\r\n",
    "df['oct (MPa)'] = oct_list\r\n",
    "df['MR (MPa)'] = mr_list"
   ],
   "outputs": [],
   "metadata": {
    "id": "HfcswZkOO389"
   }
  },
  {
   "cell_type": "code",
   "execution_count": null,
   "source": [
    "df_result = df.copy()"
   ],
   "outputs": [],
   "metadata": {}
  },
  {
   "cell_type": "markdown",
   "source": [
    "Preparação para regressão potêncial"
   ],
   "metadata": {
    "id": "XHAP0O3InnQu"
   }
  },
  {
   "cell_type": "code",
   "execution_count": null,
   "source": [
    "#transformação dos parâmetros de entrada para a base ln\n",
    "ln_mr_list = list()\n",
    "ln_e_list = list()\n",
    "ln_s3_list = list()\n",
    "ln_sd_list = list()\n",
    "ln_oct_list = list()\n",
    "for i in df.index:\n",
    "    ln_mr = log(float(df['MR (MPa)'][i]))\n",
    "    ln_e = log(float(df['e'][i]))\n",
    "    ln_s3 = log(float(df['s3 (MPa)'][i]))\n",
    "    ln_sd = log(float(df['sd (MPa)'][i]))\n",
    "    ln_oct = log(float(df['oct (MPa)'][i]))\n",
    "    ln_mr_list.append(ln_mr)\n",
    "    ln_e_list.append(ln_e)\n",
    "    ln_s3_list.append(ln_s3)\n",
    "    ln_sd_list.append(ln_sd)\n",
    "    ln_oct_list.append(ln_oct)\n",
    "df['ln_mr'] = ln_mr_list\n",
    "df['ln_e'] = ln_e_list\n",
    "df['ln_s3'] = ln_s3_list\n",
    "df['ln_sd'] = ln_sd_list\n",
    "df['ln_oct'] = ln_oct_list"
   ],
   "outputs": [],
   "metadata": {
    "id": "Gx5IIxXBR16V"
   }
  },
  {
   "cell_type": "code",
   "execution_count": null,
   "source": [
    "#regressão linear dos parâmetro na base ln\n",
    "y_e = df.iloc[:, 9].values\n",
    "y_mr = df.iloc[:, 8].values"
   ],
   "outputs": [],
   "metadata": {
    "id": "UthZ0hkzcxlD"
   }
  },
  {
   "cell_type": "code",
   "execution_count": null,
   "source": [
    "x_s3 = df.iloc[:, 10].values\n",
    "x_s3 = x_s3.reshape(-1,1)\n",
    "x_sd = df.iloc[:, 11].values\n",
    "x_sd = x_sd.reshape(-1,1)\n",
    "x_oct = df.iloc[:, 12].values\n",
    "x_oct = x_oct.reshape(-1,1)\n",
    "x_comp = df.iloc[:, 10:12].values"
   ],
   "outputs": [],
   "metadata": {
    "id": "YwT75AbKbxct"
   }
  },
  {
   "cell_type": "code",
   "execution_count": null,
   "source": [
    "from sklearn.linear_model import LinearRegression\n",
    "regressor_s3 = LinearRegression()\n",
    "regressor_sd = LinearRegression()\n",
    "regressor_oct = LinearRegression()\n",
    "regressor_comp = LinearRegression()\n",
    "regressor_s3.fit(x_s3, y_mr)\n",
    "regressor_sd.fit(x_sd, y_e)\n",
    "regressor_oct.fit(x_oct, y_mr)\n",
    "regressor_comp.fit(x_comp, y_e)"
   ],
   "outputs": [
    {
     "output_type": "execute_result",
     "data": {
      "text/plain": [
       "LinearRegression()"
      ]
     },
     "metadata": {},
     "execution_count": 9
    }
   ],
   "metadata": {
    "colab": {
     "base_uri": "https://localhost:8080/"
    },
    "id": "p8KENHUJXnbH",
    "outputId": "0e29af93-eeb5-43cd-be42-ab5081298a6b"
   }
  },
  {
   "cell_type": "markdown",
   "source": [
    "Regressão com k3 e k4 iguais a zero"
   ],
   "metadata": {
    "id": "bSQ4XoNZj5pH"
   }
  },
  {
   "cell_type": "code",
   "execution_count": null,
   "source": [
    "k1_s3 = regressor_s3.intercept_\n",
    "k2 = regressor_s3.coef_[0]\n",
    "print(f'Interseção:{k1_s3}, Variável X1:{k2}')"
   ],
   "outputs": [
    {
     "output_type": "stream",
     "name": "stdout",
     "text": [
      "Interseção:5.425703531844281, Variável X1:-0.04696997295331014\n"
     ]
    }
   ],
   "metadata": {
    "id": "_f1DNWmkkAVm"
   }
  },
  {
   "cell_type": "markdown",
   "source": [
    "Regressão com k2 e k4 iguais a zero"
   ],
   "metadata": {
    "id": "1lcGZ-QvmNd3"
   }
  },
  {
   "cell_type": "code",
   "execution_count": null,
   "source": [
    "k1_sd = regressor_sd.intercept_\n",
    "k3 = regressor_sd.coef_[0]\n",
    "print(f'Interseção:{k1_sd}, Variável X1:{k3}')"
   ],
   "outputs": [
    {
     "output_type": "stream",
     "name": "stdout",
     "text": [
      "Interseção:-5.260094063315589, Variável X1:1.1339580636220585\n"
     ]
    }
   ],
   "metadata": {
    "id": "wgbLIvSSlXF2"
   }
  },
  {
   "cell_type": "markdown",
   "source": [
    "Regressão com k2 e k3 iguais a zero"
   ],
   "metadata": {
    "id": "yYKGPbNxmgka"
   }
  },
  {
   "cell_type": "code",
   "execution_count": null,
   "source": [
    "k1_oct = regressor_oct.intercept_\n",
    "k4 = regressor_oct.coef_[0]\n",
    "print(f'Interseção:{k1_oct}, Variável X1:{k4}')"
   ],
   "outputs": [
    {
     "output_type": "stream",
     "name": "stdout",
     "text": [
      "Interseção:5.439894277536861, Variável X1:-0.0956502740439031\n"
     ]
    }
   ],
   "metadata": {
    "id": "G7FiN184lbfa"
   }
  },
  {
   "cell_type": "markdown",
   "source": [
    "Regressão do modelo composto com k4 igual a zero"
   ],
   "metadata": {
    "id": "KT1CMoAtmt-y"
   }
  },
  {
   "cell_type": "code",
   "execution_count": null,
   "source": [
    "k1_comp = regressor_comp.intercept_\n",
    "k2_comp = regressor_comp.coef_[0]\n",
    "k3_comp = regressor_comp.coef_[1]\n",
    "print(f'Interseção:{k1_comp}, Variável X1:{k2_comp}, Variável X2:{k3_comp}')"
   ],
   "outputs": [
    {
     "output_type": "stream",
     "name": "stdout",
     "text": [
      "Interseção:-5.582096317776628, Variável X1:-0.2419159136487308, Variável X2:1.2991835658162438\n"
     ]
    }
   ],
   "metadata": {
    "id": "eBZ8Qx0gg295"
   }
  },
  {
   "cell_type": "markdown",
   "source": [
    "Tranformação para parâmetros potênciais"
   ],
   "metadata": {
    "id": "bDJQOYmwe6E3"
   }
  },
  {
   "cell_type": "code",
   "execution_count": null,
   "source": [
    "#modelo dependente da tensão de confinamento\n",
    "K1_s3 = float(exp(k1_s3))\n",
    "K2 = k2\n",
    "eq_s3 = (f'MR = {K1_s3:.0f}*s3^{K2:.4f}')\n",
    "print(eq_s3)\n",
    "score_s3 = regressor_s3.score(x_s3, y_mr)\n",
    "print(f'R² = {score_s3:.2}')"
   ],
   "outputs": [
    {
     "output_type": "stream",
     "name": "stdout",
     "text": [
      "MR = 227*s3^-0.0470\n",
      "R² = 0.03\n"
     ]
    }
   ],
   "metadata": {
    "id": "vvNWhIt1kWOe"
   }
  },
  {
   "cell_type": "code",
   "execution_count": null,
   "source": [
    "#modelo dependente da tensão desvio\n",
    "K1_sd = 1/exp(k1_sd)\n",
    "K3 = 1-k3\n",
    "eq_sd = (f'MR = {K1_sd:.0f}*sd^{K3:.4f}')\n",
    "print(eq_sd)\n",
    "score_sd = regressor_sd.score(x_sd, y_e)\n",
    "print(f'R² = {score_sd:.2}')"
   ],
   "outputs": [
    {
     "output_type": "stream",
     "name": "stdout",
     "text": [
      "MR = 192*sd^-0.1340\n",
      "R² = 0.97\n"
     ]
    }
   ],
   "metadata": {
    "id": "zFCps045oeyf"
   }
  },
  {
   "cell_type": "code",
   "execution_count": null,
   "source": [
    "#modelo dependente do invariante de tensões\n",
    "K1_oct = exp(k1_oct)\n",
    "K4 = k4\n",
    "eq_oct = (f'MR = {K1_oct:.0f}*oct^{K4:.4f}')\n",
    "print(eq_oct)\n",
    "score_oct = regressor_oct.score(x_oct, y_mr)\n",
    "print(f'R² = {score_oct:.2}')"
   ],
   "outputs": [
    {
     "output_type": "stream",
     "name": "stdout",
     "text": [
      "MR = 230*oct^-0.0957\n",
      "R² = 0.13\n"
     ]
    }
   ],
   "metadata": {
    "id": "FHg2x21Mo6pu"
   }
  },
  {
   "cell_type": "code",
   "execution_count": null,
   "source": [
    "#modelo composto\n",
    "K1_comp = 1/exp(k1_comp)\n",
    "K2_comp = -k2_comp\n",
    "K3_comp = 1-k3_comp\n",
    "eq_comp = (f'MR = {K1_comp:.0f}*s3^{K2_comp:.4f}*sd^{K3_comp:.4f}')\n",
    "print(eq_comp)\n",
    "score_comp = regressor_comp.score(x_comp, y_e)\n",
    "print(f'R² = {score_comp:.2}')"
   ],
   "outputs": [
    {
     "output_type": "stream",
     "name": "stdout",
     "text": [
      "MR = 266*s3^0.2419*sd^-0.2992\n",
      "R² = 0.98\n"
     ]
    }
   ],
   "metadata": {
    "id": "NPRt-faUrj0v"
   }
  },
  {
   "cell_type": "markdown",
   "source": [
    "Previsões de MR"
   ],
   "metadata": {
    "id": "vOW37ekJ0dG1"
   }
  },
  {
   "cell_type": "code",
   "execution_count": null,
   "source": [
    "mr_s3_list = list()\n",
    "mr_sd_list = list()\n",
    "mr_oct_list = list()\n",
    "mr_comp_list = list()\n",
    "for i in df.index:\n",
    "    mr_s3_cal = K1_s3*(float(df['s3 (MPa)'][i]))**K2\n",
    "    mr_sd_cal = K1_sd*(float(df['sd (MPa)'][i]))**K3\n",
    "    mr_oct_cal = K1_oct*(float(df['oct (MPa)'][i]))**K4\n",
    "    mr_comp_cal = K1_comp*((float(df['s3 (MPa)'][i]))**K2_comp)*((float(df['sd (MPa)'][i]))**K3_comp)\n",
    "    #print(mr_s3_cal, mr_sd_cal, mr_oct_cal, mr_comp_cal)\n",
    "    mr_s3_list.append(mr_s3_cal)\n",
    "    mr_sd_list.append(mr_sd_cal)\n",
    "    mr_oct_list.append(mr_oct_cal)\n",
    "    mr_comp_list.append(mr_comp_cal)       \n",
    "df['mr_s3_cal'] = mr_s3_list\n",
    "df['mr_sd_cal'] = mr_sd_list\n",
    "df['mr_oct_cal'] = mr_oct_list\n",
    "df['mr_comp_cal'] = mr_comp_list"
   ],
   "outputs": [],
   "metadata": {
    "id": "F_brZywh0cgi"
   }
  },
  {
   "cell_type": "markdown",
   "source": [
    "Gráficos"
   ],
   "metadata": {}
  },
  {
   "cell_type": "code",
   "execution_count": null,
   "source": [
    "fig_s3 = plt.figure()\n",
    "x = df.filter(items=['s3 (MPa)'])\n",
    "y = df.filter(items=['MR (MPa)'])\n",
    "y_pre = df.filter(items=['mr_s3_cal'])\n",
    "plt.scatter(x, y, vmin=100)\n",
    "plt.plot(x, y_pre, color='red')\n",
    "plt.title('Módulo de Resiliência')\n",
    "plt.xlabel('Tensão de confinamento')\n",
    "plt.ylabel('Módulo de resiliência')\n",
    "plt.xlim(0,0.15)\n",
    "plt.ylim(0,500)\n",
    "fig_s3_px = px.scatter(df, x='s3 (MPa)', y='MR (MPa)', labels={'MR (MPa)':'MR (MPa)'},\n",
    "                        log_x=False, log_y=True,\n",
    "                        range_x=None, range_y=[100, 1000],\n",
    "                        title='Módulo de resiliêcia x Invariante de tensões')"
   ],
   "outputs": [
    {
     "output_type": "display_data",
     "data": {
      "text/plain": [
       "<Figure size 432x288 with 1 Axes>"
      ],
      "image/png": "[encoded data removed]"
     },
     "metadata": {
      "needs_background": "light"
     }
    }
   ],
   "metadata": {}
  },
  {
   "cell_type": "code",
   "execution_count": null,
   "source": [
    "fig_sd = plt.figure()\n",
    "x = df.filter(items=['sd (MPa)'])\n",
    "y = df.filter(items=['MR (MPa)'])\n",
    "y_pre = df.filter(items=['mr_sd_cal'])\n",
    "plt.scatter(x, y, vmin=100)\n",
    "plt.plot(x, y_pre, color='red')\n",
    "plt.title('Módulo de Resiliência')\n",
    "plt.xlabel('Tensão de desvio')\n",
    "plt.ylabel('Módulo de resiliência')\n",
    "plt.xlim(0, 0.5)\n",
    "plt.ylim(0, 500)\n",
    "fig_sd_px = px.scatter(df, x='sd (MPa)', y='MR (MPa)', labels={'MR (MPa)':'MR (MPa)'},                       \n",
    "                        log_x=False, log_y=True,\n",
    "                        range_x=None, range_y=[100, 1000],\n",
    "                        title='Módulo de resiliêcia x Invariante de tensões')"
   ],
   "outputs": [
    {
     "output_type": "display_data",
     "data": {
      "text/plain": [
       "<Figure size 432x288 with 1 Axes>"
      ],
      "image/png": "[encoded data removed]"
     },
     "metadata": {
      "needs_background": "light"
     }
    }
   ],
   "metadata": {}
  },
  {
   "cell_type": "code",
   "execution_count": null,
   "source": [
    "fig_oct = plt.figure()\n",
    "x = df.filter(items=['oct (MPa)'])\n",
    "y = df.filter(items=['MR (MPa)'])\n",
    "y_pre = df.filter(items=['mr_oct_cal'])\n",
    "plt.scatter(x, y, vmin=100)\n",
    "plt.plot(x, y_pre, color='red')\n",
    "plt.title('Módulo de Resiliência')\n",
    "plt.xlabel('Invariante de tensão')\n",
    "plt.ylabel('Módulo de resiliência')\n",
    "plt.xlim(0, 0.5)\n",
    "plt.ylim(0, 500)\n",
    "fig_oct_px = px.scatter(df,  x='oct (MPa)', y='MR (MPa)', labels={'MR (MPa)':'MR (MPa)'},\n",
    "                        log_x=False, log_y=True,\n",
    "                        range_x=None, range_y=[100, 1000],\n",
    "                        title='Módulo de resiliêcia x Invariante de tensões')"
   ],
   "outputs": [
    {
     "output_type": "display_data",
     "data": {
      "text/plain": [
       "<Figure size 432x288 with 1 Axes>"
      ],
      "image/png": "[encoded data removed]"
     },
     "metadata": {
      "needs_background": "light"
     }
    }
   ],
   "metadata": {}
  },
  {
   "cell_type": "markdown",
   "source": [
    "Métricas de avaliação dos modelos"
   ],
   "metadata": {
    "id": "hRiMfVg9AhYn"
   }
  },
  {
   "cell_type": "code",
   "execution_count": null,
   "source": [
    "from sklearn.metrics import mean_absolute_error, r2_score, mean_squared_error\n",
    "mae_s3 = mean_absolute_error((df.iloc[:, 7].values), (df.iloc[:, 13].values))\n",
    "msr_s3 = mean_squared_error((df.iloc[:, 7].values), (df.iloc[:, 13].values))\n",
    "r2_s3 = r2_score((df.iloc[:, 7].values), (df.iloc[:, 13].values))\n",
    "print(f'O modelo dependente de s3 tem o R² de {r2_s3:.2f}, o MAE de {mae_s3:.2f} e o MSR de {msr_s3:.2f}.')"
   ],
   "outputs": [
    {
     "output_type": "stream",
     "name": "stdout",
     "text": [
      "O modelo dependente de s3 tem o R² de 0.04, o MAE de 38.44 e o MSR de 2159.78.\n"
     ]
    }
   ],
   "metadata": {
    "colab": {
     "base_uri": "https://localhost:8080/"
    },
    "id": "S9b565Fd5Bru",
    "outputId": "84db464e-1499-4e3d-add0-0fae7f490ab0"
   }
  },
  {
   "cell_type": "code",
   "execution_count": null,
   "source": [
    "mae_sd = mean_absolute_error((df.iloc[:, 7].values), (df.iloc[:, 14].values))\n",
    "msr_sd = mean_squared_error((df.iloc[:, 7].values), (df.iloc[:, 14].values))\n",
    "r2_sd = r2_score((df.iloc[:, 7].values), (df.iloc[:, 14].values))\n",
    "print(f'O modelo dependente de sd tem o R² de {r2_sd:.2f}, o MAE de {mae_sd:.2f} e o MSR de {msr_sd:.2f}.')"
   ],
   "outputs": [
    {
     "output_type": "stream",
     "name": "stdout",
     "text": [
      "O modelo dependente de sd tem o R² de 0.41, o MAE de 31.82 e o MSR de 1335.72.\n"
     ]
    }
   ],
   "metadata": {
    "colab": {
     "base_uri": "https://localhost:8080/"
    },
    "id": "WMTMt11b5pxw",
    "outputId": "4f10242c-fdf8-4806-9d37-596b1fcc33e0"
   }
  },
  {
   "cell_type": "code",
   "execution_count": null,
   "source": [
    "mae_oct = mean_absolute_error((df.iloc[:, 7].values), (df.iloc[:, 15].values))\n",
    "msr_oct = mean_squared_error((df.iloc[:, 7].values), (df.iloc[:, 15].values))\n",
    "r2_oct = r2_score((df.iloc[:, 7].values), (df.iloc[:, 15].values))\n",
    "print(f'O modelo dependente de oct tem o R² de {r2_oct:.2f}, o MAE de {mae_oct:.2f} e o MSR de {msr_oct:.2f}.')"
   ],
   "outputs": [
    {
     "output_type": "stream",
     "name": "stdout",
     "text": [
      "O modelo dependente de oct tem o R² de 0.16, o MAE de 36.45 e o MSR de 1885.62.\n"
     ]
    }
   ],
   "metadata": {
    "colab": {
     "base_uri": "https://localhost:8080/"
    },
    "id": "vmz9zHzd9mAb",
    "outputId": "43a703b4-68ed-47f9-b2e1-ad35e835bb2e"
   }
  },
  {
   "cell_type": "code",
   "execution_count": null,
   "source": [
    "mae_comp = mean_absolute_error((df.iloc[:, 7].values), (df.iloc[:, 16].values))\n",
    "msr_comp = mean_squared_error((df.iloc[:, 7].values), (df.iloc[:, 16].values))\n",
    "r2_comp = r2_score((df.iloc[:, 7].values), (df.iloc[:, 16].values))\n",
    "print(f'O modelo composto tem o R² de {r2_comp:.2f}, o MAE de {mae_comp:.2f} e o MSR de {mae_comp:.2f}.')"
   ],
   "outputs": [
    {
     "output_type": "stream",
     "name": "stdout",
     "text": [
      "O modelo composto tem o R² de 0.63, o MAE de 24.80 e o MSR de 24.80.\n"
     ]
    }
   ],
   "metadata": {
    "colab": {
     "base_uri": "https://localhost:8080/"
    },
    "id": "qKp_X-Zt9t_i",
    "outputId": "d2e84963-e493-4637-e2af-534b212db0bd"
   }
  },
  {
   "cell_type": "markdown",
   "source": [
    "Dashboard"
   ],
   "metadata": {
    "id": "Jis0cR93KZg7"
   }
  },
  {
   "cell_type": "code",
   "execution_count": null,
   "source": [
    "import dash\n",
    "from dash.dependencies import Input, Output\n",
    "import dash_core_components as dcc\n",
    "import dash_html_components as html\n",
    "import dash_bootstrap_components as dbc"
   ],
   "outputs": [],
   "metadata": {
    "id": "DG5sJk5CKY2D"
   }
  },
  {
   "cell_type": "code",
   "execution_count": null,
   "source": [
    "external_stylesheets = [dbc.themes.BOOTSTRAP]"
   ],
   "outputs": [],
   "metadata": {
    "id": "2LnLi-IoKy3-"
   }
  },
  {
   "cell_type": "code",
   "execution_count": null,
   "source": [
    "app = dash.Dash(__name__, external_stylesheets=external_stylesheets)\n",
    "app.title = 'Módulo de Resiliência'"
   ],
   "outputs": [],
   "metadata": {
    "id": "6rJWpJ7ALALg"
   }
  },
  {
   "cell_type": "code",
   "execution_count": null,
   "source": [
    "colors = {\n",
    "    'background': '#111112',\n",
    "    'bodyColor':'#F2DFCE',\n",
    "    'text': '#7FDBFF'\n",
    "}\n",
    "def get_page_heading_style():\n",
    "    return {'backgroundColor': colors['background']}\n",
    "\n",
    "def get_page_heading_title():\n",
    "    return html.H1(children='Módulo de Resiliência', style={'textAlign': 'center', 'color': colors['text']}\n",
    "                  )\n",
    "\n",
    "def get_page_heading_subtitle():\n",
    "    return html.Div(children='Cálculo de Modelos de Módulo de Resiliência para o MeDiNa',\n",
    "                    style={'textAlign':'center','color':colors['text']}\n",
    "                   )\n",
    "\n",
    "def generate_page_header():\n",
    "    main_header =  dbc.Row(\n",
    "                            [\n",
    "                                dbc.Col(get_page_heading_title(),md=12)\n",
    "                            ],\n",
    "                            align=\"center\",\n",
    "                            style=get_page_heading_style()\n",
    "                        )\n",
    "    subtitle_header = dbc.Row(\n",
    "                            [\n",
    "                                dbc.Col(get_page_heading_subtitle(),md=12)\n",
    "                            ],\n",
    "                            align=\"center\",\n",
    "                            style=get_page_heading_style()\n",
    "                        )\n",
    "    header = (main_header,subtitle_header)\n",
    "    return header"
   ],
   "outputs": [],
   "metadata": {
    "id": "tf5v5q8SLabY"
   }
  },
  {
   "cell_type": "code",
   "execution_count": null,
   "source": [
    "def generate_table(dataframe, max_rows=10):\n",
    "    return html.Table([\n",
    "        html.Thead(\n",
    "            html.Tr([html.Th(col) for col in dataframe.columns])\n",
    "        ),\n",
    "        html.Tbody([\n",
    "            html.Tr([\n",
    "                html.Td(f'{dataframe.iloc[i][col]:.4f}') for col in dataframe.columns\n",
    "            ], className=\"table-text\", style={'textAlign':'center',  'border': '1px solid', 'background-color':  'white'}) \n",
    "            for i in range(min(len(dataframe), max_rows))\n",
    "        ])\n",
    "    ])"
   ],
   "outputs": [],
   "metadata": {}
  },
  {
   "cell_type": "code",
   "execution_count": null,
   "source": [
    "def graph():\n",
    "    return dbc.Row(\n",
    "                [\n",
    "                    dbc.Col(\n",
    "                        dcc.Graph(id='graph1', figure=fig_s3_px)\n",
    "                        ,md=dict(size=6, offset=3)),\n",
    "                    dbc.Col(\n",
    "                        dcc.Graph(id='graph2', figure=fig_sd_px)\n",
    "                        ,md=dict(size=6, offset=3)),\n",
    "                    dbc.Col(\n",
    "                        dcc.Graph(id='graph3', figure=fig_oct_px)\n",
    "                        ,md=dict(size=6, offset=3)),\n",
    "                ],)\n",
    "    return"
   ],
   "outputs": [],
   "metadata": {
    "id": "7UHM3uyJM-ZJ"
   }
  },
  {
   "cell_type": "code",
   "execution_count": null,
   "source": [
    "def generate_card_content(card_header,card_value,overall_value):\n",
    "    card_head_style = {'textAlign':'center','fontSize':'100%'}\n",
    "    card_body_style = {'textAlign':'center','fontSize':'100%'}\n",
    "    card_header = dbc.CardHeader(card_header,style=card_head_style)\n",
    "    card_body = dbc.CardBody(\n",
    "        [\n",
    "            html.H5(f\"{card_value}\", className=\"card-title\",style=card_body_style),\n",
    "            html.P(\n",
    "                \"R²: {:.2f}\".format(overall_value),\n",
    "                className=\"card-text\", style={'textAlign':'center'},\n",
    "            ),\n",
    "        ]\n",
    "    )\n",
    "    card = [card_header,card_body]\n",
    "    return card"
   ],
   "outputs": [],
   "metadata": {}
  },
  {
   "cell_type": "code",
   "execution_count": null,
   "source": [
    "def generate_cards():\n",
    "\n",
    "    cards = html.Div(\n",
    "        [\n",
    "            dbc.Row(\n",
    "                [\n",
    "                    dbc.Col(dbc.Card(generate_card_content(\"Modelo S3\",eq_s3,score_s3), color=\"success\", inverse=True),md=dict(size=3)),\n",
    "                    dbc.Col(dbc.Card(generate_card_content(\"Modelo SD\",eq_sd,score_sd), color=\"warning\", inverse=True),md=dict(size=3)),\n",
    "                    dbc.Col(dbc.Card(generate_card_content(\"Modelo OCT\",eq_oct,score_oct),color=\"dark\", inverse=True),md=dict(size=3)),\n",
    "                    dbc.Col(dbc.Card(generate_card_content(\"Modelo COMP\",eq_comp,score_comp),color=\"background\", inverse=True),md=dict(size=3))\n",
    "                ],\n",
    "                className=\"mb-4\",\n",
    "            ),\n",
    "        ],id='card1'\n",
    "    )\n",
    "    return cards"
   ],
   "outputs": [],
   "metadata": {
    "id": "DcTFw9ZmPLk0"
   }
  },
  {
   "cell_type": "code",
   "execution_count": null,
   "source": [
    "def generate_layout():\n",
    "    page_header = generate_page_header()\n",
    "    layout = dbc.Container(\n",
    "        [\n",
    "            page_header[0],\n",
    "            page_header[1],\n",
    "            html.Hr(),\n",
    "            dbc.Row(\n",
    "                [\n",
    "                    dbc.Col(generate_table(df_result),md=dict(size=10, offset=3))\n",
    "                ]\n",
    "            ),\n",
    "            html.Hr(),\n",
    "            generate_cards(),\n",
    "            html.Hr(),\n",
    "            graph(),\n",
    "            html.Hr(),\n",
    "            \n",
    "        ], fluid=True,style={'backgroundColor': colors['bodyColor']}\n",
    "    )\n",
    "    return layout"
   ],
   "outputs": [],
   "metadata": {
    "id": "YPKR-A_ZR0gT"
   }
  },
  {
   "cell_type": "code",
   "execution_count": null,
   "source": [
    "app.layout = generate_layout()"
   ],
   "outputs": [],
   "metadata": {
    "id": "KWA06TPWS-FR"
   }
  },
  {
   "cell_type": "code",
   "execution_count": null,
   "source": [
    "app.run_server(debug=False)"
   ],
   "outputs": [
    {
     "output_type": "stream",
     "name": "stdout",
     "text": [
      "Dash is running on http://127.0.0.1:8050/\n",
      "\n",
      " * Serving Flask app \"__main__\" (lazy loading)\n",
      " * Environment: production\n",
      "   WARNING: This is a development server. Do not use it in a production deployment.\n",
      "   Use a production WSGI server instead.\n",
      " * Debug mode: off\n"
     ]
    },
    {
     "output_type": "stream",
     "name": "stderr",
     "text": [
      " * Running on http://127.0.0.1:8050/ (Press CTRL+C to quit)\n",
      "127.0.0.1 - - [10/Mar/2021 11:07:40] \"\u001b[37mGET / HTTP/1.1\u001b[0m\" 200 -\n",
      "127.0.0.1 - - [10/Mar/2021 11:07:41] \"\u001b[37mGET /_dash-dependencies HTTP/1.1\u001b[0m\" 200 -\n",
      "127.0.0.1 - - [10/Mar/2021 11:07:41] \"\u001b[37mGET /_dash-layout HTTP/1.1\u001b[0m\" 200 -\n",
      "127.0.0.1 - - [10/Mar/2021 11:07:41] \"\u001b[37mGET /_dash-component-suites/dash_core_components/async-graph.v1_15_0m1611086576.js HTTP/1.1\u001b[0m\" 200 -\n",
      "127.0.0.1 - - [10/Mar/2021 11:07:41] \"\u001b[37mGET /_dash-component-suites/dash_core_components/async-plotlyjs.v1_15_0m1611086576.js HTTP/1.1\u001b[0m\" 200 -\n",
      "127.0.0.1 - - [10/Mar/2021 11:08:26] \"\u001b[37mGET / HTTP/1.1\u001b[0m\" 200 -\n",
      "127.0.0.1 - - [10/Mar/2021 11:08:26] \"\u001b[37mGET /_dash-component-suites/dash_renderer/react@16.v1_9_0m1615385019.14.0.min.js HTTP/1.1\u001b[0m\" 200 -\n",
      "127.0.0.1 - - [10/Mar/2021 11:08:26] \"\u001b[37mGET /_dash-component-suites/dash_renderer/prop-types@15.v1_9_0m1615385019.7.2.min.js HTTP/1.1\u001b[0m\" 200 -\n",
      "127.0.0.1 - - [10/Mar/2021 11:08:26] \"\u001b[37mGET /_dash-component-suites/dash_renderer/polyfill@7.v1_9_0m1615385019.8.7.min.js HTTP/1.1\u001b[0m\" 200 -\n",
      "127.0.0.1 - - [10/Mar/2021 11:08:26] \"\u001b[37mGET /_dash-component-suites/dash_renderer/react-dom@16.v1_9_0m1615385019.14.0.min.js HTTP/1.1\u001b[0m\" 200 -\n",
      "127.0.0.1 - - [10/Mar/2021 11:08:26] \"\u001b[37mGET /_dash-component-suites/dash_html_components/dash_html_components.v1_1_2m1615385020.min.js HTTP/1.1\u001b[0m\" 200 -\n",
      "127.0.0.1 - - [10/Mar/2021 11:08:26] \"\u001b[37mGET /_dash-component-suites/dash_bootstrap_components/_components/dash_bootstrap_components.v0_11_3m1615385026.min.js HTTP/1.1\u001b[0m\" 200 -\n",
      "127.0.0.1 - - [10/Mar/2021 11:08:26] \"\u001b[37mGET /_dash-component-suites/dash_core_components/dash_core_components-shared.v1_15_0m1615385019.js HTTP/1.1\u001b[0m\" 200 -\n",
      "127.0.0.1 - - [10/Mar/2021 11:08:26] \"\u001b[37mGET /_dash-component-suites/dash_core_components/dash_core_components.v1_15_0m1615385019.min.js HTTP/1.1\u001b[0m\" 200 -\n",
      "127.0.0.1 - - [10/Mar/2021 11:08:26] \"\u001b[37mGET /_dash-component-suites/dash_renderer/dash_renderer.v1_9_0m1615385019.min.js HTTP/1.1\u001b[0m\" 200 -\n",
      "127.0.0.1 - - [10/Mar/2021 11:08:27] \"\u001b[37mGET /_dash-layout HTTP/1.1\u001b[0m\" 200 -\n",
      "127.0.0.1 - - [10/Mar/2021 11:08:27] \"\u001b[37mGET /_dash-dependencies HTTP/1.1\u001b[0m\" 200 -\n",
      "127.0.0.1 - - [10/Mar/2021 11:08:27] \"\u001b[37mGET /_dash-component-suites/dash_core_components/async-graph.v1_15_0m1611086576.js HTTP/1.1\u001b[0m\" 200 -\n",
      "127.0.0.1 - - [10/Mar/2021 11:08:27] \"\u001b[37mGET /_dash-component-suites/dash_core_components/async-plotlyjs.v1_15_0m1611086576.js HTTP/1.1\u001b[0m\" 200 -\n"
     ]
    }
   ],
   "metadata": {
    "colab": {
     "base_uri": "https://localhost:8080/"
    },
    "id": "ZQ5s45peU6CE",
    "outputId": "05f5bb5b-ca71-44a0-952b-fbc92e92ae15",
    "scrolled": true
   }
  },
  {
   "cell_type": "code",
   "execution_count": null,
   "source": [],
   "outputs": [],
   "metadata": {}
  },
  {
   "cell_type": "code",
   "execution_count": null,
   "source": [],
   "outputs": [],
   "metadata": {}
  }
 ],
 "metadata": {
  "colab": {
   "name": "Cópia de Planilha_MR.ipynb",
   "provenance": []
  },
  "kernelspec": {
   "name": "python3",
   "display_name": "Python 3.8.5 64-bit (conda)"
  },
  "language_info": {
   "codemirror_mode": {
    "name": "ipython",
    "version": 3
   },
   "file_extension": ".py",
   "mimetype": "text/x-python",
   "name": "python",
   "nbconvert_exporter": "python",
   "pygments_lexer": "ipython3",
   "version": "3.8.5"
  },
  "interpreter": {
   "hash": "b3ba2566441a7c06988d0923437866b63cedc61552a5af99d1f4fb67d367b25f"
  }
 },
 "nbformat": 4,
 "nbformat_minor": 1
}