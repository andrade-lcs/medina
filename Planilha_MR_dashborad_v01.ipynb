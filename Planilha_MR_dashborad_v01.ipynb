{
  "nbformat": 4,
  "nbformat_minor": 0,
  "metadata": {
    "colab": {
      "name": "Planilha_MR_dashborad_v01.ipynb",
      "provenance": []
    },
    "kernelspec": {
      "display_name": "Python 3",
      "language": "python",
      "name": "python3"
    },
    "language_info": {
      "codemirror_mode": {
        "name": "ipython",
        "version": 3
      },
      "file_extension": ".py",
      "mimetype": "text/x-python",
      "name": "python",
      "nbconvert_exporter": "python",
      "pygments_lexer": "ipython3",
      "version": "3.8.2"
    }
  },
  "cells": [
    {
      "cell_type": "code",
      "metadata": {
        "id": "Iuuo51jiJuV0",
        "colab": {
          "base_uri": "https://localhost:8080/"
        },
        "outputId": "d4d772c2-621e-4c3e-a46e-daf7988fb8a4"
      },
      "source": [
        "!pip install sklearn\n",
        "!pip install dash\n",
        "!pip install dash_bootstrap_components"
      ],
      "execution_count": 1,
      "outputs": [
        {
          "output_type": "stream",
          "text": [
            "Requirement already satisfied: sklearn in /usr/local/lib/python3.7/dist-packages (0.0)\n",
            "Requirement already satisfied: scikit-learn in /usr/local/lib/python3.7/dist-packages (from sklearn) (0.22.2.post1)\n",
            "Requirement already satisfied: scipy>=0.17.0 in /usr/local/lib/python3.7/dist-packages (from scikit-learn->sklearn) (1.4.1)\n",
            "Requirement already satisfied: numpy>=1.11.0 in /usr/local/lib/python3.7/dist-packages (from scikit-learn->sklearn) (1.19.5)\n",
            "Requirement already satisfied: joblib>=0.11 in /usr/local/lib/python3.7/dist-packages (from scikit-learn->sklearn) (1.0.1)\n",
            "Requirement already satisfied: dash in /usr/local/lib/python3.7/dist-packages (1.19.0)\n",
            "Requirement already satisfied: flask-compress in /usr/local/lib/python3.7/dist-packages (from dash) (1.9.0)\n",
            "Requirement already satisfied: future in /usr/local/lib/python3.7/dist-packages (from dash) (0.16.0)\n",
            "Requirement already satisfied: dash-table==4.11.2 in /usr/local/lib/python3.7/dist-packages (from dash) (4.11.2)\n",
            "Requirement already satisfied: plotly in /usr/local/lib/python3.7/dist-packages (from dash) (4.4.1)\n",
            "Requirement already satisfied: Flask>=1.0.4 in /usr/local/lib/python3.7/dist-packages (from dash) (1.1.2)\n",
            "Requirement already satisfied: dash-html-components==1.1.2 in /usr/local/lib/python3.7/dist-packages (from dash) (1.1.2)\n",
            "Requirement already satisfied: dash-renderer==1.9.0 in /usr/local/lib/python3.7/dist-packages (from dash) (1.9.0)\n",
            "Requirement already satisfied: dash-core-components==1.15.0 in /usr/local/lib/python3.7/dist-packages (from dash) (1.15.0)\n",
            "Requirement already satisfied: brotli in /usr/local/lib/python3.7/dist-packages (from flask-compress->dash) (1.0.9)\n",
            "Requirement already satisfied: retrying>=1.3.3 in /usr/local/lib/python3.7/dist-packages (from plotly->dash) (1.3.3)\n",
            "Requirement already satisfied: six in /usr/local/lib/python3.7/dist-packages (from plotly->dash) (1.15.0)\n",
            "Requirement already satisfied: itsdangerous>=0.24 in /usr/local/lib/python3.7/dist-packages (from Flask>=1.0.4->dash) (1.1.0)\n",
            "Requirement already satisfied: Jinja2>=2.10.1 in /usr/local/lib/python3.7/dist-packages (from Flask>=1.0.4->dash) (2.11.3)\n",
            "Requirement already satisfied: click>=5.1 in /usr/local/lib/python3.7/dist-packages (from Flask>=1.0.4->dash) (7.1.2)\n",
            "Requirement already satisfied: Werkzeug>=0.15 in /usr/local/lib/python3.7/dist-packages (from Flask>=1.0.4->dash) (1.0.1)\n",
            "Requirement already satisfied: MarkupSafe>=0.23 in /usr/local/lib/python3.7/dist-packages (from Jinja2>=2.10.1->Flask>=1.0.4->dash) (1.1.1)\n",
            "Requirement already satisfied: dash_bootstrap_components in /usr/local/lib/python3.7/dist-packages (0.11.3)\n",
            "Requirement already satisfied: dash>=1.9.0 in /usr/local/lib/python3.7/dist-packages (from dash_bootstrap_components) (1.19.0)\n",
            "Requirement already satisfied: dash-html-components==1.1.2 in /usr/local/lib/python3.7/dist-packages (from dash>=1.9.0->dash_bootstrap_components) (1.1.2)\n",
            "Requirement already satisfied: dash-renderer==1.9.0 in /usr/local/lib/python3.7/dist-packages (from dash>=1.9.0->dash_bootstrap_components) (1.9.0)\n",
            "Requirement already satisfied: dash-core-components==1.15.0 in /usr/local/lib/python3.7/dist-packages (from dash>=1.9.0->dash_bootstrap_components) (1.15.0)\n",
            "Requirement already satisfied: plotly in /usr/local/lib/python3.7/dist-packages (from dash>=1.9.0->dash_bootstrap_components) (4.4.1)\n",
            "Requirement already satisfied: future in /usr/local/lib/python3.7/dist-packages (from dash>=1.9.0->dash_bootstrap_components) (0.16.0)\n",
            "Requirement already satisfied: Flask>=1.0.4 in /usr/local/lib/python3.7/dist-packages (from dash>=1.9.0->dash_bootstrap_components) (1.1.2)\n",
            "Requirement already satisfied: flask-compress in /usr/local/lib/python3.7/dist-packages (from dash>=1.9.0->dash_bootstrap_components) (1.9.0)\n",
            "Requirement already satisfied: dash-table==4.11.2 in /usr/local/lib/python3.7/dist-packages (from dash>=1.9.0->dash_bootstrap_components) (4.11.2)\n",
            "Requirement already satisfied: retrying>=1.3.3 in /usr/local/lib/python3.7/dist-packages (from plotly->dash>=1.9.0->dash_bootstrap_components) (1.3.3)\n",
            "Requirement already satisfied: six in /usr/local/lib/python3.7/dist-packages (from plotly->dash>=1.9.0->dash_bootstrap_components) (1.15.0)\n",
            "Requirement already satisfied: Jinja2>=2.10.1 in /usr/local/lib/python3.7/dist-packages (from Flask>=1.0.4->dash>=1.9.0->dash_bootstrap_components) (2.11.3)\n",
            "Requirement already satisfied: itsdangerous>=0.24 in /usr/local/lib/python3.7/dist-packages (from Flask>=1.0.4->dash>=1.9.0->dash_bootstrap_components) (1.1.0)\n",
            "Requirement already satisfied: Werkzeug>=0.15 in /usr/local/lib/python3.7/dist-packages (from Flask>=1.0.4->dash>=1.9.0->dash_bootstrap_components) (1.0.1)\n",
            "Requirement already satisfied: click>=5.1 in /usr/local/lib/python3.7/dist-packages (from Flask>=1.0.4->dash>=1.9.0->dash_bootstrap_components) (7.1.2)\n",
            "Requirement already satisfied: brotli in /usr/local/lib/python3.7/dist-packages (from flask-compress->dash>=1.9.0->dash_bootstrap_components) (1.0.9)\n",
            "Requirement already satisfied: MarkupSafe>=0.23 in /usr/local/lib/python3.7/dist-packages (from Jinja2>=2.10.1->Flask>=1.0.4->dash>=1.9.0->dash_bootstrap_components) (1.1.1)\n"
          ],
          "name": "stdout"
        }
      ]
    },
    {
      "cell_type": "code",
      "metadata": {
        "id": "u-BxnpDUGIbX"
      },
      "source": [
        "import pandas as pd\n",
        "import matplotlib.pyplot as plt\n",
        "from math import pi, log, exp\n",
        "import plotly.express as px"
      ],
      "execution_count": 2,
      "outputs": []
    },
    {
      "cell_type": "markdown",
      "metadata": {
        "id": "g4lG0vSPnRCp"
      },
      "source": [
        "Importação dos resultados do ensaio"
      ]
    },
    {
      "cell_type": "code",
      "metadata": {
        "id": "WQnwO89OGSfT"
      },
      "source": [
        "df = pd.read_csv('modelo.xls', sep=';')"
      ],
      "execution_count": 3,
      "outputs": []
    },
    {
      "cell_type": "markdown",
      "metadata": {
        "id": "F3FCHMXdeqPn"
      },
      "source": [
        "Calculo dos resultados"
      ]
    },
    {
      "cell_type": "code",
      "metadata": {
        "id": "HfcswZkOO389"
      },
      "source": [
        "e_list = list()\n",
        "sd_list = list()\n",
        "mr_list = list()\n",
        "oct_list = list()\n",
        "for i in df.index:\n",
        "    e = (float(df['LVDT-A (mm)'][i])+float(df['LVDT-B (mm)'][i]))/2/200\n",
        "    sd =  (float(df['Carga (kgf)'][i])*9.81)/(100**2*pi/4)\n",
        "    mr = sd/e\n",
        "    oct = (sd+3*float(df['s3 (Mpa)'][i]))\n",
        "    e_list.append(e)\n",
        "    sd_list.append(sd)\n",
        "    mr_list.append(mr)\n",
        "    oct_list.append(oct)\n",
        "df['e'] = e_list\n",
        "df['sd (Mpa)'] = sd_list\n",
        "df['oct (mpa)'] = oct_list\n",
        "df['MR (Mpa)'] = mr_list\n"
      ],
      "execution_count": 4,
      "outputs": []
    },
    {
      "cell_type": "code",
      "metadata": {
        "id": "iB1jv000s6qh"
      },
      "source": [
        "df_result = df.copy()"
      ],
      "execution_count": 5,
      "outputs": []
    },
    {
      "cell_type": "markdown",
      "metadata": {
        "id": "SjT1zkENnjEM"
      },
      "source": [
        "Vizualização dos resultados"
      ]
    },
    {
      "cell_type": "code",
      "metadata": {
        "colab": {
          "base_uri": "https://localhost:8080/",
          "height": 295
        },
        "id": "odrdIWMcSGx9",
        "outputId": "f89dafa1-e420-40b1-cc75-b05496de2a2b"
      },
      "source": [
        "fig_s3 = plt.figure()\n",
        "plt.scatter(df.filter(items=['s3 (Mpa)']), df.filter(items=['MR (Mpa)']), vmin=100)\n",
        "#plt.plot(x, regressor.predict(x), color='red')\n",
        "plt.title('Módulo de Resiliência')\n",
        "plt.xlabel('Tensão de confinamento')\n",
        "plt.ylabel('Módulo de resiliência')\n",
        "plt.xlim(0,0.15)\n",
        "plt.ylim(0,500)\n",
        "fig_s3_px = px.scatter(df, x='s3 (Mpa)', y='MR (Mpa)', labels={'MR (Mpa)':'MR (Mpa)'}, log_y=True, title='Módulo de resiliêcia x Tensão de Confinamento')"
      ],
      "execution_count": 6,
      "outputs": [
        {
          "output_type": "display_data",
          "data": {
            "image/png": "[encoded data removed]",
            "text/plain": [
              "<Figure size 432x288 with 1 Axes>"
            ]
          },
          "metadata": {
            "tags": [],
            "needs_background": "light"
          }
        }
      ]
    },
    {
      "cell_type": "markdown",
      "metadata": {
        "id": "XHAP0O3InnQu"
      },
      "source": [
        "Preparação para regressão potêncial"
      ]
    },
    {
      "cell_type": "code",
      "metadata": {
        "id": "Gx5IIxXBR16V"
      },
      "source": [
        "#transformação dos parâmetros de entrada para a base ln\n",
        "ln_mr_list = list()\n",
        "ln_e_list = list()\n",
        "ln_s3_list = list()\n",
        "ln_sd_list = list()\n",
        "ln_oct_list = list()\n",
        "for i in df.index:\n",
        "    ln_mr = log(float(df['MR (Mpa)'][i]))\n",
        "    ln_e = log(float(df['e'][i]))\n",
        "    ln_s3 = log(float(df['s3 (Mpa)'][i]))\n",
        "    ln_sd = log(float(df['sd (Mpa)'][i]))\n",
        "    ln_oct = log(float(df['oct (mpa)'][i]))\n",
        "    ln_mr_list.append(ln_mr)\n",
        "    ln_e_list.append(ln_e)\n",
        "    ln_s3_list.append(ln_s3)\n",
        "    ln_sd_list.append(ln_sd)\n",
        "    ln_oct_list.append(ln_oct)\n",
        "df['ln_mr'] = ln_mr_list\n",
        "df['ln_e'] = ln_e_list\n",
        "df['ln_s3'] = ln_s3_list\n",
        "df['ln_sd'] = ln_sd_list\n",
        "df['ln_oct'] = ln_oct_list"
      ],
      "execution_count": 7,
      "outputs": []
    },
    {
      "cell_type": "code",
      "metadata": {
        "id": "UthZ0hkzcxlD"
      },
      "source": [
        "#regressão linear dos parâmetro na base ln\n",
        "y_e = df.iloc[:, 9].values\n",
        "y_mr = df.iloc[:, 8].values"
      ],
      "execution_count": 8,
      "outputs": []
    },
    {
      "cell_type": "code",
      "metadata": {
        "id": "YwT75AbKbxct"
      },
      "source": [
        "x_s3 = df.iloc[:, 10].values\n",
        "x_s3 = x_s3.reshape(-1,1)\n",
        "x_sd = df.iloc[:, 11].values\n",
        "x_sd = x_sd.reshape(-1,1)\n",
        "x_oct = df.iloc[:, 12].values\n",
        "x_oct = x_oct.reshape(-1,1)\n",
        "x_comp = df.iloc[:, 10:12].values"
      ],
      "execution_count": 9,
      "outputs": []
    },
    {
      "cell_type": "code",
      "metadata": {
        "colab": {
          "base_uri": "https://localhost:8080/"
        },
        "id": "p8KENHUJXnbH",
        "outputId": "808da832-1bda-4322-afb3-d0e4a8a1f2ca"
      },
      "source": [
        "from sklearn.linear_model import LinearRegression\n",
        "regressor_s3 = LinearRegression()\n",
        "regressor_sd = LinearRegression()\n",
        "regressor_oct = LinearRegression()\n",
        "regressor_comp = LinearRegression()\n",
        "regressor_s3.fit(x_s3, y_mr)\n",
        "regressor_sd.fit(x_sd, y_e)\n",
        "regressor_oct.fit(x_oct, y_mr)\n",
        "regressor_comp.fit(x_comp, y_e)"
      ],
      "execution_count": 10,
      "outputs": [
        {
          "output_type": "execute_result",
          "data": {
            "text/plain": [
              "LinearRegression(copy_X=True, fit_intercept=True, n_jobs=None, normalize=False)"
            ]
          },
          "metadata": {
            "tags": []
          },
          "execution_count": 10
        }
      ]
    },
    {
      "cell_type": "markdown",
      "metadata": {
        "id": "bSQ4XoNZj5pH"
      },
      "source": [
        "Regressão com k3 e k4 iguais a zero"
      ]
    },
    {
      "cell_type": "code",
      "metadata": {
        "id": "_f1DNWmkkAVm"
      },
      "source": [
        "k1_s3 = regressor_s3.intercept_\n",
        "k2 = regressor_s3.coef_[0]"
      ],
      "execution_count": 11,
      "outputs": []
    },
    {
      "cell_type": "code",
      "metadata": {
        "colab": {
          "base_uri": "https://localhost:8080/"
        },
        "id": "esWKMApfba12",
        "outputId": "f20ee004-052e-4962-c3e3-43ff6c548534"
      },
      "source": [
        "print(f'Interseção:{k1_s3}, Variável X1:{k2}')"
      ],
      "execution_count": 12,
      "outputs": [
        {
          "output_type": "stream",
          "text": [
            "Interseção:5.425703531844281, Variável X1:-0.04696997295331014\n"
          ],
          "name": "stdout"
        }
      ]
    },
    {
      "cell_type": "markdown",
      "metadata": {
        "id": "1lcGZ-QvmNd3"
      },
      "source": [
        "Regressão com k2 e k4 iguais a zero"
      ]
    },
    {
      "cell_type": "code",
      "metadata": {
        "id": "wgbLIvSSlXF2"
      },
      "source": [
        "k1_sd = regressor_sd.intercept_\n",
        "k3 = regressor_sd.coef_[0]"
      ],
      "execution_count": 13,
      "outputs": []
    },
    {
      "cell_type": "code",
      "metadata": {
        "colab": {
          "base_uri": "https://localhost:8080/"
        },
        "id": "RVhrfaZLbbbl",
        "outputId": "440ebfb6-ba0a-4617-a6b5-632afca28699"
      },
      "source": [
        "print(f'Interseção:{k1_sd}, Variável X1:{k3}')"
      ],
      "execution_count": 14,
      "outputs": [
        {
          "output_type": "stream",
          "text": [
            "Interseção:-5.260094063315589, Variável X1:1.1339580636220585\n"
          ],
          "name": "stdout"
        }
      ]
    },
    {
      "cell_type": "markdown",
      "metadata": {
        "id": "yYKGPbNxmgka"
      },
      "source": [
        "Regressão com k2 e k3 iguais a zero"
      ]
    },
    {
      "cell_type": "code",
      "metadata": {
        "id": "G7FiN184lbfa"
      },
      "source": [
        "k1_oct = regressor_oct.intercept_\n",
        "k4 = regressor_oct.coef_[0]"
      ],
      "execution_count": 15,
      "outputs": []
    },
    {
      "cell_type": "code",
      "metadata": {
        "colab": {
          "base_uri": "https://localhost:8080/"
        },
        "id": "qOjDfGGKcjpq",
        "outputId": "22534a9b-5e9b-47b3-911d-a92e22da9ad5"
      },
      "source": [
        "print(f'Interseção:{k1_oct}, Variável X1:{k4}')\n"
      ],
      "execution_count": 16,
      "outputs": [
        {
          "output_type": "stream",
          "text": [
            "Interseção:5.43989427753686, Variável X1:-0.09565027404390317\n"
          ],
          "name": "stdout"
        }
      ]
    },
    {
      "cell_type": "markdown",
      "metadata": {
        "id": "KT1CMoAtmt-y"
      },
      "source": [
        "Regressão do modelo composto com k4 igual a zero"
      ]
    },
    {
      "cell_type": "code",
      "metadata": {
        "id": "eBZ8Qx0gg295"
      },
      "source": [
        "k1_comp = regressor_comp.intercept_\n",
        "k2_comp = regressor_comp.coef_[0]\n",
        "k3_comp = regressor_comp.coef_[1]"
      ],
      "execution_count": 17,
      "outputs": []
    },
    {
      "cell_type": "code",
      "metadata": {
        "colab": {
          "base_uri": "https://localhost:8080/"
        },
        "id": "fSaGUkdUeG_C",
        "outputId": "7731050c-5037-4c39-c8d6-8fd28cecd746"
      },
      "source": [
        "print(f'Interseção:{k1_comp}, Variável X1:{k2_comp}, Variável X2:{k3_comp}')"
      ],
      "execution_count": 18,
      "outputs": [
        {
          "output_type": "stream",
          "text": [
            "Interseção:-5.582096317776629, Variável X1:-0.24191591364873088, Variável X2:1.2991835658162438\n"
          ],
          "name": "stdout"
        }
      ]
    },
    {
      "cell_type": "markdown",
      "metadata": {
        "id": "bDJQOYmwe6E3"
      },
      "source": [
        "Tranformação para parâmetros potênciais"
      ]
    },
    {
      "cell_type": "code",
      "metadata": {
        "id": "vvNWhIt1kWOe"
      },
      "source": [
        "#modelo dependente da tensão de confinamento\n",
        "K1_s3 = float(exp(k1_s3))\n",
        "K2 = k2"
      ],
      "execution_count": 19,
      "outputs": []
    },
    {
      "cell_type": "code",
      "metadata": {
        "colab": {
          "base_uri": "https://localhost:8080/"
        },
        "id": "11pvzpyzqEKy",
        "outputId": "a29c66ce-e0d2-4de6-c32d-5e90a09922fb"
      },
      "source": [
        "eq_s3 = (f'MR = {K1_s3:.0f}*s3^{K2:.4}')\n",
        "print(eq_s3)"
      ],
      "execution_count": 20,
      "outputs": [
        {
          "output_type": "stream",
          "text": [
            "MR = 227*s3^-0.04697\n"
          ],
          "name": "stdout"
        }
      ]
    },
    {
      "cell_type": "code",
      "metadata": {
        "colab": {
          "base_uri": "https://localhost:8080/"
        },
        "id": "9MAV6isxydRl",
        "outputId": "19e338a7-e89a-4858-954b-1eac8bb3cdab"
      },
      "source": [
        "score_s3 = regressor_s3.score(x_s3, y_mr)\n",
        "print(f'R² = {score_s3:.2}')"
      ],
      "execution_count": 21,
      "outputs": [
        {
          "output_type": "stream",
          "text": [
            "R² = 0.03\n"
          ],
          "name": "stdout"
        }
      ]
    },
    {
      "cell_type": "code",
      "metadata": {
        "id": "zFCps045oeyf"
      },
      "source": [
        "#modelo dependente da tensão desvio\n",
        "K1_sd = 1/exp(k1_sd)\n",
        "K3 = 1-k3"
      ],
      "execution_count": 22,
      "outputs": []
    },
    {
      "cell_type": "code",
      "metadata": {
        "colab": {
          "base_uri": "https://localhost:8080/"
        },
        "id": "LwNJlecgpFxm",
        "outputId": "b41a4f29-d652-4e71-805b-65ebaa5b1d36"
      },
      "source": [
        "eq_sd = (f'MR = {K1_sd:.0f}*sd^{K3:.4}')\n",
        "print(eq_sd)"
      ],
      "execution_count": 23,
      "outputs": [
        {
          "output_type": "stream",
          "text": [
            "MR = 192*sd^-0.134\n"
          ],
          "name": "stdout"
        }
      ]
    },
    {
      "cell_type": "code",
      "metadata": {
        "colab": {
          "base_uri": "https://localhost:8080/"
        },
        "id": "zQsdmfr2zEkV",
        "outputId": "c8b04394-62d3-4057-ef79-388b2de194b5"
      },
      "source": [
        "score_sd = regressor_sd.score(x_sd, y_e)\n",
        "print(f'R² = {score_sd:.2}')"
      ],
      "execution_count": 24,
      "outputs": [
        {
          "output_type": "stream",
          "text": [
            "R² = 0.97\n"
          ],
          "name": "stdout"
        }
      ]
    },
    {
      "cell_type": "code",
      "metadata": {
        "id": "FHg2x21Mo6pu"
      },
      "source": [
        "#modelo dependente do invariante de tensões\n",
        "K1_oct = exp(k1_oct)\n",
        "K4 = k4"
      ],
      "execution_count": 25,
      "outputs": []
    },
    {
      "cell_type": "code",
      "metadata": {
        "colab": {
          "base_uri": "https://localhost:8080/"
        },
        "id": "mnqwvv3Ns-jK",
        "outputId": "ad2468a7-826d-4b94-84fd-1519a52dad1a"
      },
      "source": [
        "eq_oct = (f'MR = {K1_oct:.0f}*oct^{K4:.4}')\n",
        "print(eq_oct)"
      ],
      "execution_count": 26,
      "outputs": [
        {
          "output_type": "stream",
          "text": [
            "MR = 230*oct^-0.09565\n"
          ],
          "name": "stdout"
        }
      ]
    },
    {
      "cell_type": "code",
      "metadata": {
        "colab": {
          "base_uri": "https://localhost:8080/"
        },
        "id": "l3w9SlBkzK_F",
        "outputId": "92e540c3-9944-4695-f47c-e7f0ff784df7"
      },
      "source": [
        "score_oct = regressor_oct.score(x_oct, y_mr)\n",
        "print(f'R² = {score_oct:.2}')"
      ],
      "execution_count": 27,
      "outputs": [
        {
          "output_type": "stream",
          "text": [
            "R² = 0.13\n"
          ],
          "name": "stdout"
        }
      ]
    },
    {
      "cell_type": "code",
      "metadata": {
        "id": "NPRt-faUrj0v"
      },
      "source": [
        "#modelo composto\n",
        "K1_comp = 1/exp(k1_comp)\n",
        "K2_comp = -k2_comp\n",
        "K3_comp = 1-k3_comp"
      ],
      "execution_count": 28,
      "outputs": []
    },
    {
      "cell_type": "code",
      "metadata": {
        "colab": {
          "base_uri": "https://localhost:8080/"
        },
        "id": "-nvYFyrasDht",
        "outputId": "3c3d5aba-114f-46f7-ed97-116883e8c883"
      },
      "source": [
        "eq_comp = (f'MR = {K1_comp:.0f}*s3^{K2_comp:.4}*sd^{K3_comp:.4}')\n",
        "print(eq_comp)"
      ],
      "execution_count": 29,
      "outputs": [
        {
          "output_type": "stream",
          "text": [
            "MR = 266*s3^0.2419*sd^-0.2992\n"
          ],
          "name": "stdout"
        }
      ]
    },
    {
      "cell_type": "code",
      "metadata": {
        "colab": {
          "base_uri": "https://localhost:8080/"
        },
        "id": "6HkuS3eXzQPF",
        "outputId": "2fe294c5-e18b-41dc-e2fd-6127bb43da80"
      },
      "source": [
        "score_comp = regressor_comp.score(x_comp, y_e)\n",
        "print(f'R² = {score_comp:.2}')"
      ],
      "execution_count": 30,
      "outputs": [
        {
          "output_type": "stream",
          "text": [
            "R² = 0.98\n"
          ],
          "name": "stdout"
        }
      ]
    },
    {
      "cell_type": "markdown",
      "metadata": {
        "id": "vOW37ekJ0dG1"
      },
      "source": [
        "Previsões de MR"
      ]
    },
    {
      "cell_type": "code",
      "metadata": {
        "id": "F_brZywh0cgi"
      },
      "source": [
        "mr_s3_list = list()\n",
        "mr_sd_list = list()\n",
        "mr_oct_list = list()\n",
        "mr_comp_list = list()\n",
        "for i in df.index:\n",
        "    mr_s3_cal = K1_s3*(float(df['s3 (Mpa)'][i]))**K2\n",
        "    mr_sd_cal = K1_sd*(float(df['sd (Mpa)'][i]))**K3\n",
        "    mr_oct_cal = K1_oct*(float(df['oct (mpa)'][i]))**K4\n",
        "    mr_comp_cal = K1_comp*((float(df['s3 (Mpa)'][i]))**K2_comp)*((float(df['sd (Mpa)'][i]))**K3_comp)\n",
        "    #print(mr_s3_cal, mr_sd_cal, mr_oct_cal, mr_comp_cal)\n",
        "    mr_s3_list.append(mr_s3_cal)\n",
        "    mr_sd_list.append(mr_sd_cal)\n",
        "    mr_oct_list.append(mr_oct_cal)\n",
        "    mr_comp_list.append(mr_comp_cal)       \n",
        "df['mr_s3_cal'] = mr_s3_list\n",
        "df['mr_sd_cal'] = mr_sd_list\n",
        "df['mr_oct_cal'] = mr_oct_list\n",
        "df['mr_comp_cal'] = mr_comp_list"
      ],
      "execution_count": 31,
      "outputs": []
    },
    {
      "cell_type": "code",
      "metadata": {
        "colab": {
          "base_uri": "https://localhost:8080/",
          "height": 644
        },
        "id": "9flXzs6eiKB2",
        "outputId": "b2a6e0e1-32ea-48e5-9747-ff6333fb1a00"
      },
      "source": [
        "df"
      ],
      "execution_count": 32,
      "outputs": [
        {
          "output_type": "execute_result",
          "data": {
            "text/html": [
              "<div>\n",
              "<style scoped>\n",
              "    .dataframe tbody tr th:only-of-type {\n",
              "        vertical-align: middle;\n",
              "    }\n",
              "\n",
              "    .dataframe tbody tr th {\n",
              "        vertical-align: top;\n",
              "    }\n",
              "\n",
              "    .dataframe thead th {\n",
              "        text-align: right;\n",
              "    }\n",
              "</style>\n",
              "<table border=\"1\" class=\"dataframe\">\n",
              "  <thead>\n",
              "    <tr style=\"text-align: right;\">\n",
              "      <th></th>\n",
              "      <th>s3 (Mpa)</th>\n",
              "      <th>Carga (kgf)</th>\n",
              "      <th>LVDT-A (mm)</th>\n",
              "      <th>LVDT-B (mm)</th>\n",
              "      <th>e</th>\n",
              "      <th>sd (Mpa)</th>\n",
              "      <th>oct (mpa)</th>\n",
              "      <th>MR (Mpa)</th>\n",
              "      <th>ln_mr</th>\n",
              "      <th>ln_e</th>\n",
              "      <th>ln_s3</th>\n",
              "      <th>ln_sd</th>\n",
              "      <th>ln_oct</th>\n",
              "      <th>mr_s3_cal</th>\n",
              "      <th>mr_sd_cal</th>\n",
              "      <th>mr_oct_cal</th>\n",
              "      <th>mr_comp_cal</th>\n",
              "    </tr>\n",
              "  </thead>\n",
              "  <tbody>\n",
              "    <tr>\n",
              "      <th>0</th>\n",
              "      <td>0.0207</td>\n",
              "      <td>17.88</td>\n",
              "      <td>0.011142</td>\n",
              "      <td>0.012061</td>\n",
              "      <td>0.000058</td>\n",
              "      <td>0.022333</td>\n",
              "      <td>0.084433</td>\n",
              "      <td>385.001562</td>\n",
              "      <td>5.953247</td>\n",
              "      <td>-9.754938</td>\n",
              "      <td>-3.877622</td>\n",
              "      <td>-3.801691</td>\n",
              "      <td>-2.471797</td>\n",
              "      <td>272.553606</td>\n",
              "      <td>320.333041</td>\n",
              "      <td>291.874046</td>\n",
              "      <td>324.226186</td>\n",
              "    </tr>\n",
              "    <tr>\n",
              "      <th>1</th>\n",
              "      <td>0.0207</td>\n",
              "      <td>36.50</td>\n",
              "      <td>0.028317</td>\n",
              "      <td>0.032436</td>\n",
              "      <td>0.000152</td>\n",
              "      <td>0.045590</td>\n",
              "      <td>0.107690</td>\n",
              "      <td>300.167905</td>\n",
              "      <td>5.704342</td>\n",
              "      <td>-8.792403</td>\n",
              "      <td>-3.877622</td>\n",
              "      <td>-3.088061</td>\n",
              "      <td>-2.228496</td>\n",
              "      <td>272.553606</td>\n",
              "      <td>291.128510</td>\n",
              "      <td>285.160036</td>\n",
              "      <td>261.892774</td>\n",
              "    </tr>\n",
              "    <tr>\n",
              "      <th>2</th>\n",
              "      <td>0.0207</td>\n",
              "      <td>50.86</td>\n",
              "      <td>0.045420</td>\n",
              "      <td>0.054234</td>\n",
              "      <td>0.000249</td>\n",
              "      <td>0.063527</td>\n",
              "      <td>0.125627</td>\n",
              "      <td>254.988584</td>\n",
              "      <td>5.541219</td>\n",
              "      <td>-8.297516</td>\n",
              "      <td>-3.877622</td>\n",
              "      <td>-2.756297</td>\n",
              "      <td>-2.074441</td>\n",
              "      <td>272.553606</td>\n",
              "      <td>278.473319</td>\n",
              "      <td>280.988900</td>\n",
              "      <td>237.146164</td>\n",
              "    </tr>\n",
              "    <tr>\n",
              "      <th>3</th>\n",
              "      <td>0.0345</td>\n",
              "      <td>29.10</td>\n",
              "      <td>0.020936</td>\n",
              "      <td>0.023896</td>\n",
              "      <td>0.000112</td>\n",
              "      <td>0.036347</td>\n",
              "      <td>0.139847</td>\n",
              "      <td>324.297069</td>\n",
              "      <td>5.781660</td>\n",
              "      <td>-9.096295</td>\n",
              "      <td>-3.366796</td>\n",
              "      <td>-3.314635</td>\n",
              "      <td>-1.967204</td>\n",
              "      <td>266.091929</td>\n",
              "      <td>300.100137</td>\n",
              "      <td>278.121452</td>\n",
              "      <td>317.126025</td>\n",
              "    </tr>\n",
              "    <tr>\n",
              "      <th>4</th>\n",
              "      <td>0.0345</td>\n",
              "      <td>56.89</td>\n",
              "      <td>0.051595</td>\n",
              "      <td>0.062099</td>\n",
              "      <td>0.000284</td>\n",
              "      <td>0.071058</td>\n",
              "      <td>0.174558</td>\n",
              "      <td>249.998559</td>\n",
              "      <td>5.521455</td>\n",
              "      <td>-8.165709</td>\n",
              "      <td>-3.366796</td>\n",
              "      <td>-2.644254</td>\n",
              "      <td>-1.745496</td>\n",
              "      <td>266.091929</td>\n",
              "      <td>274.324912</td>\n",
              "      <td>272.285589</td>\n",
              "      <td>259.493629</td>\n",
              "    </tr>\n",
              "    <tr>\n",
              "      <th>5</th>\n",
              "      <td>0.0345</td>\n",
              "      <td>84.84</td>\n",
              "      <td>0.092686</td>\n",
              "      <td>0.112963</td>\n",
              "      <td>0.000514</td>\n",
              "      <td>0.105969</td>\n",
              "      <td>0.209469</td>\n",
              "      <td>206.116697</td>\n",
              "      <td>5.328443</td>\n",
              "      <td>-7.573049</td>\n",
              "      <td>-3.366796</td>\n",
              "      <td>-2.244606</td>\n",
              "      <td>-1.563178</td>\n",
              "      <td>266.091929</td>\n",
              "      <td>260.024850</td>\n",
              "      <td>267.578430</td>\n",
              "      <td>230.249654</td>\n",
              "    </tr>\n",
              "    <tr>\n",
              "      <th>6</th>\n",
              "      <td>0.0504</td>\n",
              "      <td>41.10</td>\n",
              "      <td>0.031014</td>\n",
              "      <td>0.037529</td>\n",
              "      <td>0.000171</td>\n",
              "      <td>0.051336</td>\n",
              "      <td>0.202536</td>\n",
              "      <td>299.583459</td>\n",
              "      <td>5.702393</td>\n",
              "      <td>-8.671759</td>\n",
              "      <td>-2.987764</td>\n",
              "      <td>-2.969366</td>\n",
              "      <td>-1.596838</td>\n",
              "      <td>261.396583</td>\n",
              "      <td>286.536096</td>\n",
              "      <td>268.441307</td>\n",
              "      <td>313.466969</td>\n",
              "    </tr>\n",
              "    <tr>\n",
              "      <th>7</th>\n",
              "      <td>0.0504</td>\n",
              "      <td>83.11</td>\n",
              "      <td>0.084596</td>\n",
              "      <td>0.105022</td>\n",
              "      <td>0.000474</td>\n",
              "      <td>0.103808</td>\n",
              "      <td>0.255008</td>\n",
              "      <td>218.984229</td>\n",
              "      <td>5.389000</td>\n",
              "      <td>-7.654208</td>\n",
              "      <td>-2.987764</td>\n",
              "      <td>-2.265209</td>\n",
              "      <td>-1.366459</td>\n",
              "      <td>261.396583</td>\n",
              "      <td>260.743462</td>\n",
              "      <td>262.590673</td>\n",
              "      <td>253.920650</td>\n",
              "    </tr>\n",
              "    <tr>\n",
              "      <th>8</th>\n",
              "      <td>0.0504</td>\n",
              "      <td>124.85</td>\n",
              "      <td>0.142363</td>\n",
              "      <td>0.173639</td>\n",
              "      <td>0.000790</td>\n",
              "      <td>0.155944</td>\n",
              "      <td>0.307144</td>\n",
              "      <td>197.395766</td>\n",
              "      <td>5.285211</td>\n",
              "      <td>-7.143471</td>\n",
              "      <td>-2.987764</td>\n",
              "      <td>-1.858261</td>\n",
              "      <td>-1.180440</td>\n",
              "      <td>261.396583</td>\n",
              "      <td>246.909792</td>\n",
              "      <td>257.959775</td>\n",
              "      <td>224.813163</td>\n",
              "    </tr>\n",
              "    <tr>\n",
              "      <th>9</th>\n",
              "      <td>0.0689</td>\n",
              "      <td>57.10</td>\n",
              "      <td>0.048685</td>\n",
              "      <td>0.057380</td>\n",
              "      <td>0.000265</td>\n",
              "      <td>0.071321</td>\n",
              "      <td>0.278021</td>\n",
              "      <td>268.969558</td>\n",
              "      <td>5.594598</td>\n",
              "      <td>-8.235168</td>\n",
              "      <td>-2.675099</td>\n",
              "      <td>-2.640570</td>\n",
              "      <td>-1.280060</td>\n",
              "      <td>257.585799</td>\n",
              "      <td>274.189546</td>\n",
              "      <td>260.429544</td>\n",
              "      <td>306.421705</td>\n",
              "    </tr>\n",
              "    <tr>\n",
              "      <th>10</th>\n",
              "      <td>0.0689</td>\n",
              "      <td>110.54</td>\n",
              "      <td>0.113835</td>\n",
              "      <td>0.141878</td>\n",
              "      <td>0.000639</td>\n",
              "      <td>0.138070</td>\n",
              "      <td>0.344770</td>\n",
              "      <td>215.976138</td>\n",
              "      <td>5.375168</td>\n",
              "      <td>-7.355164</td>\n",
              "      <td>-2.675099</td>\n",
              "      <td>-1.979996</td>\n",
              "      <td>-1.064878</td>\n",
              "      <td>257.585799</td>\n",
              "      <td>250.969274</td>\n",
              "      <td>255.124125</td>\n",
              "      <td>251.471482</td>\n",
              "    </tr>\n",
              "    <tr>\n",
              "      <th>11</th>\n",
              "      <td>0.0689</td>\n",
              "      <td>166.65</td>\n",
              "      <td>0.173520</td>\n",
              "      <td>0.225626</td>\n",
              "      <td>0.000998</td>\n",
              "      <td>0.208154</td>\n",
              "      <td>0.414854</td>\n",
              "      <td>208.599207</td>\n",
              "      <td>5.340415</td>\n",
              "      <td>-6.909893</td>\n",
              "      <td>-2.675099</td>\n",
              "      <td>-1.569478</td>\n",
              "      <td>-0.879829</td>\n",
              "      <td>257.585799</td>\n",
              "      <td>237.540533</td>\n",
              "      <td>250.648150</td>\n",
              "      <td>222.407046</td>\n",
              "    </tr>\n",
              "    <tr>\n",
              "      <th>12</th>\n",
              "      <td>0.1029</td>\n",
              "      <td>83.37</td>\n",
              "      <td>0.061105</td>\n",
              "      <td>0.082475</td>\n",
              "      <td>0.000359</td>\n",
              "      <td>0.104133</td>\n",
              "      <td>0.412833</td>\n",
              "      <td>290.104837</td>\n",
              "      <td>5.670242</td>\n",
              "      <td>-7.932327</td>\n",
              "      <td>-2.273998</td>\n",
              "      <td>-2.262085</td>\n",
              "      <td>-0.884712</td>\n",
              "      <td>252.778381</td>\n",
              "      <td>260.634385</td>\n",
              "      <td>250.765240</td>\n",
              "      <td>301.496614</td>\n",
              "    </tr>\n",
              "    <tr>\n",
              "      <th>13</th>\n",
              "      <td>0.1029</td>\n",
              "      <td>166.49</td>\n",
              "      <td>0.143481</td>\n",
              "      <td>0.196936</td>\n",
              "      <td>0.000851</td>\n",
              "      <td>0.207954</td>\n",
              "      <td>0.516654</td>\n",
              "      <td>244.352075</td>\n",
              "      <td>5.498610</td>\n",
              "      <td>-7.069048</td>\n",
              "      <td>-2.273998</td>\n",
              "      <td>-1.570438</td>\n",
              "      <td>-0.660382</td>\n",
              "      <td>252.778381</td>\n",
              "      <td>237.571100</td>\n",
              "      <td>245.441833</td>\n",
              "      <td>245.139995</td>\n",
              "    </tr>\n",
              "    <tr>\n",
              "      <th>14</th>\n",
              "      <td>0.1029</td>\n",
              "      <td>248.08</td>\n",
              "      <td>0.219083</td>\n",
              "      <td>0.294692</td>\n",
              "      <td>0.001284</td>\n",
              "      <td>0.309864</td>\n",
              "      <td>0.618564</td>\n",
              "      <td>241.244768</td>\n",
              "      <td>5.485812</td>\n",
              "      <td>-6.657434</td>\n",
              "      <td>-2.273998</td>\n",
              "      <td>-1.171622</td>\n",
              "      <td>-0.480355</td>\n",
              "      <td>252.778381</td>\n",
              "      <td>225.212032</td>\n",
              "      <td>241.251596</td>\n",
              "      <td>217.567741</td>\n",
              "    </tr>\n",
              "    <tr>\n",
              "      <th>15</th>\n",
              "      <td>0.1379</td>\n",
              "      <td>111.90</td>\n",
              "      <td>0.075516</td>\n",
              "      <td>0.104124</td>\n",
              "      <td>0.000449</td>\n",
              "      <td>0.139768</td>\n",
              "      <td>0.553468</td>\n",
              "      <td>311.219039</td>\n",
              "      <td>5.740497</td>\n",
              "      <td>-7.708265</td>\n",
              "      <td>-1.981226</td>\n",
              "      <td>-1.967768</td>\n",
              "      <td>-0.591550</td>\n",
              "      <td>249.326102</td>\n",
              "      <td>250.558507</td>\n",
              "      <td>243.831215</td>\n",
              "      <td>296.346669</td>\n",
              "    </tr>\n",
              "    <tr>\n",
              "      <th>16</th>\n",
              "      <td>0.1379</td>\n",
              "      <td>221.08</td>\n",
              "      <td>0.168978</td>\n",
              "      <td>0.227724</td>\n",
              "      <td>0.000992</td>\n",
              "      <td>0.276140</td>\n",
              "      <td>0.689840</td>\n",
              "      <td>278.435229</td>\n",
              "      <td>5.629185</td>\n",
              "      <td>-6.916034</td>\n",
              "      <td>-1.981226</td>\n",
              "      <td>-1.286849</td>\n",
              "      <td>-0.371296</td>\n",
              "      <td>249.326102</td>\n",
              "      <td>228.715269</td>\n",
              "      <td>238.748063</td>\n",
              "      <td>241.727286</td>\n",
              "    </tr>\n",
              "    <tr>\n",
              "      <th>17</th>\n",
              "      <td>0.1379</td>\n",
              "      <td>320.66</td>\n",
              "      <td>0.267768</td>\n",
              "      <td>0.361586</td>\n",
              "      <td>0.001573</td>\n",
              "      <td>0.400520</td>\n",
              "      <td>0.814220</td>\n",
              "      <td>254.559265</td>\n",
              "      <td>5.539534</td>\n",
              "      <td>-6.454526</td>\n",
              "      <td>-1.981226</td>\n",
              "      <td>-0.914992</td>\n",
              "      <td>-0.205525</td>\n",
              "      <td>249.326102</td>\n",
              "      <td>217.601336</td>\n",
              "      <td>234.992313</td>\n",
              "      <td>216.276297</td>\n",
              "    </tr>\n",
              "  </tbody>\n",
              "</table>\n",
              "</div>"
            ],
            "text/plain": [
              "    s3 (Mpa)  Carga (kgf)  LVDT-A (mm)  ...   mr_sd_cal  mr_oct_cal  mr_comp_cal\n",
              "0     0.0207        17.88     0.011142  ...  320.333041  291.874046   324.226186\n",
              "1     0.0207        36.50     0.028317  ...  291.128510  285.160036   261.892774\n",
              "2     0.0207        50.86     0.045420  ...  278.473319  280.988900   237.146164\n",
              "3     0.0345        29.10     0.020936  ...  300.100137  278.121452   317.126025\n",
              "4     0.0345        56.89     0.051595  ...  274.324912  272.285589   259.493629\n",
              "5     0.0345        84.84     0.092686  ...  260.024850  267.578430   230.249654\n",
              "6     0.0504        41.10     0.031014  ...  286.536096  268.441307   313.466969\n",
              "7     0.0504        83.11     0.084596  ...  260.743462  262.590673   253.920650\n",
              "8     0.0504       124.85     0.142363  ...  246.909792  257.959775   224.813163\n",
              "9     0.0689        57.10     0.048685  ...  274.189546  260.429544   306.421705\n",
              "10    0.0689       110.54     0.113835  ...  250.969274  255.124125   251.471482\n",
              "11    0.0689       166.65     0.173520  ...  237.540533  250.648150   222.407046\n",
              "12    0.1029        83.37     0.061105  ...  260.634385  250.765240   301.496614\n",
              "13    0.1029       166.49     0.143481  ...  237.571100  245.441833   245.139995\n",
              "14    0.1029       248.08     0.219083  ...  225.212032  241.251596   217.567741\n",
              "15    0.1379       111.90     0.075516  ...  250.558507  243.831215   296.346669\n",
              "16    0.1379       221.08     0.168978  ...  228.715269  238.748063   241.727286\n",
              "17    0.1379       320.66     0.267768  ...  217.601336  234.992313   216.276297\n",
              "\n",
              "[18 rows x 17 columns]"
            ]
          },
          "metadata": {
            "tags": []
          },
          "execution_count": 32
        }
      ]
    },
    {
      "cell_type": "markdown",
      "metadata": {
        "id": "PKnzxO-NddJi"
      },
      "source": [
        "Gráficos"
      ]
    },
    {
      "cell_type": "code",
      "metadata": {
        "colab": {
          "base_uri": "https://localhost:8080/",
          "height": 295
        },
        "id": "kGWt7uDHdcuz",
        "outputId": "e8fa3539-bc6a-4665-b579-a6c13c3926fc"
      },
      "source": [
        "fig_s3 = plt.figure()\r\n",
        "x = df.filter(items=['s3 (Mpa)'])\r\n",
        "y = df.filter(items=['MR (Mpa)'])\r\n",
        "y_pre = df.filter(items=['mr_s3_cal'])\r\n",
        "plt.scatter(x, y, vmin=100)\r\n",
        "plt.plot(x, y_pre, color='red')\r\n",
        "plt.title('Módulo de Resiliência')\r\n",
        "plt.xlabel('Tensão de confinamento')\r\n",
        "plt.ylabel('Módulo de resiliência')\r\n",
        "plt.xlim(0,0.15)\r\n",
        "plt.ylim(0,500)\r\n",
        "fig_s3_px = px.scatter(df, x='s3 (Mpa)', y='MR (Mpa)', labels={'MR (Mpa)':'MR (Mpa)'},\r\n",
        "                        log_x=False, log_y=True,\r\n",
        "                        range_x=None, range_y=[100, 1000],\r\n",
        "                        title='Módulo de resiliêcia x Invariante de tensões')"
      ],
      "execution_count": 33,
      "outputs": [
        {
          "output_type": "display_data",
          "data": {
            "image/png": "[encoded data removed]",
            "text/plain": [
              "<Figure size 432x288 with 1 Axes>"
            ]
          },
          "metadata": {
            "tags": [],
            "needs_background": "light"
          }
        }
      ]
    },
    {
      "cell_type": "code",
      "metadata": {
        "colab": {
          "base_uri": "https://localhost:8080/",
          "height": 295
        },
        "id": "E9mv1ViajRIU",
        "outputId": "9f52d6ef-6917-4875-ddd9-d650d85995a3"
      },
      "source": [
        "fig_sd = plt.figure()\n",
        "x = df.filter(items=['sd (Mpa)'])\n",
        "y = df.filter(items=['MR (Mpa)'])\n",
        "y_pre = df.filter(items=['mr_sd_cal'])\n",
        "plt.scatter(x, y, vmin=100)\n",
        "plt.plot(x, y_pre, color='red')\n",
        "plt.title('Módulo de Resiliência')\n",
        "plt.xlabel('Tensão de desvio')\n",
        "plt.ylabel('Módulo de resiliência')\n",
        "plt.xlim(0, 0.5)\n",
        "plt.ylim(0, 500)\n",
        "fig_sd_px = px.scatter(df, x='sd (Mpa)', y='MR (Mpa)', labels={'MR (Mpa)':'MR (Mpa)'},                       \n",
        "                        log_x=False, log_y=True,\n",
        "                        range_x=None, range_y=[100, 1000],\n",
        "                        title='Módulo de resiliêcia x Invariante de tensões')"
      ],
      "execution_count": 34,
      "outputs": [
        {
          "output_type": "display_data",
          "data": {
            "image/png": "[encoded data removed]",
            "text/plain": [
              "<Figure size 432x288 with 1 Axes>"
            ]
          },
          "metadata": {
            "tags": [],
            "needs_background": "light"
          }
        }
      ]
    },
    {
      "cell_type": "code",
      "metadata": {
        "colab": {
          "base_uri": "https://localhost:8080/",
          "height": 295
        },
        "id": "p3YLsYVSNY79",
        "outputId": "eff115b9-3f8d-4c24-93a0-20135ae9cbd2"
      },
      "source": [
        "fig_oct = plt.figure()\n",
        "x = df.filter(items=['oct (mpa)'])\n",
        "y = df.filter(items=['MR (Mpa)'])\n",
        "y_pre = df.filter(items=['mr_oct_cal'])\n",
        "plt.scatter(x, y, vmin=100)\n",
        "plt.plot(x, y_pre, color='red')\n",
        "plt.title('Módulo de Resiliência')\n",
        "plt.xlabel('Invariante de tensão')\n",
        "plt.ylabel('Módulo de resiliência')\n",
        "plt.xlim(0, 0.5)\n",
        "plt.ylim(0, 500)\n",
        "fig_oct_px = px.scatter(df,  x='oct (mpa)', y='MR (Mpa)', labels={'MR (Mpa)':'MR (Mpa)'},\n",
        "                        log_x=False, log_y=True,\n",
        "                        range_x=None, range_y=[100, 1000],\n",
        "                        title='Módulo de resiliêcia x Invariante de tensões')"
      ],
      "execution_count": 35,
      "outputs": [
        {
          "output_type": "display_data",
          "data": {
            "image/png": "[encoded data removed]",
            "text/plain": [
              "<Figure size 432x288 with 1 Axes>"
            ]
          },
          "metadata": {
            "tags": [],
            "needs_background": "light"
          }
        }
      ]
    },
    {
      "cell_type": "markdown",
      "metadata": {
        "id": "hRiMfVg9AhYn"
      },
      "source": [
        "Métricas de avaliação dos modelos"
      ]
    },
    {
      "cell_type": "code",
      "metadata": {
        "colab": {
          "base_uri": "https://localhost:8080/"
        },
        "id": "S9b565Fd5Bru",
        "outputId": "83482600-1ebf-4cc6-e78a-27461702c0dd"
      },
      "source": [
        "from sklearn.metrics import mean_absolute_error, r2_score, mean_squared_error\n",
        "mae_s3 = mean_absolute_error((df.iloc[:, 7].values), (df.iloc[:, 13].values))\n",
        "msr_s3 = mean_squared_error((df.iloc[:, 7].values), (df.iloc[:, 13].values))\n",
        "r2_s3 = r2_score((df.iloc[:, 7].values), (df.iloc[:, 13].values))\n",
        "print(f'O modelo dependente de s3 tem o R² de {r2_s3:.2f}, o MAE de {mae_s3:.2f} e o MSR de {msr_s3:.2f}.')"
      ],
      "execution_count": 36,
      "outputs": [
        {
          "output_type": "stream",
          "text": [
            "O modelo dependente de s3 tem o R² de 0.04, o MAE de 38.44 e o MSR de 2159.78.\n"
          ],
          "name": "stdout"
        }
      ]
    },
    {
      "cell_type": "code",
      "metadata": {
        "colab": {
          "base_uri": "https://localhost:8080/"
        },
        "id": "WMTMt11b5pxw",
        "outputId": "07fe9f12-d4b2-4c6f-ba23-09f25d26f6c5"
      },
      "source": [
        "mae_sd = mean_absolute_error((df.iloc[:, 7].values), (df.iloc[:, 14].values))\n",
        "msr_sd = mean_squared_error((df.iloc[:, 7].values), (df.iloc[:, 14].values))\n",
        "r2_sd = r2_score((df.iloc[:, 7].values), (df.iloc[:, 14].values))\n",
        "print(f'O modelo dependente de sd tem o R² de {r2_sd:.2f}, o MAE de {mae_sd:.2f} e o MSR de {msr_sd:.2f}.')"
      ],
      "execution_count": 37,
      "outputs": [
        {
          "output_type": "stream",
          "text": [
            "O modelo dependente de sd tem o R² de 0.41, o MAE de 31.82 e o MSR de 1335.72.\n"
          ],
          "name": "stdout"
        }
      ]
    },
    {
      "cell_type": "code",
      "metadata": {
        "colab": {
          "base_uri": "https://localhost:8080/"
        },
        "id": "vmz9zHzd9mAb",
        "outputId": "0f971a6b-d284-46db-a5b3-331dffb69487"
      },
      "source": [
        "mae_oct = mean_absolute_error((df.iloc[:, 7].values), (df.iloc[:, 15].values))\n",
        "msr_oct = mean_squared_error((df.iloc[:, 7].values), (df.iloc[:, 15].values))\n",
        "r2_oct = r2_score((df.iloc[:, 7].values), (df.iloc[:, 15].values))\n",
        "print(f'O modelo dependente de oct tem o R² de {r2_oct:.2f}, o MAE de {mae_oct:.2f} e o MSR de {msr_oct:.2f}.')"
      ],
      "execution_count": 38,
      "outputs": [
        {
          "output_type": "stream",
          "text": [
            "O modelo dependente de oct tem o R² de 0.16, o MAE de 36.45 e o MSR de 1885.62.\n"
          ],
          "name": "stdout"
        }
      ]
    },
    {
      "cell_type": "code",
      "metadata": {
        "colab": {
          "base_uri": "https://localhost:8080/"
        },
        "id": "qKp_X-Zt9t_i",
        "outputId": "6500e4f4-43c8-40c3-a3a3-75e9b52ff171"
      },
      "source": [
        "mae_comp = mean_absolute_error((df.iloc[:, 7].values), (df.iloc[:, 16].values))\n",
        "msr_comp = mean_squared_error((df.iloc[:, 7].values), (df.iloc[:, 16].values))\n",
        "r2_comp = r2_score((df.iloc[:, 7].values), (df.iloc[:, 16].values))\n",
        "print(f'O modelo composto tem o R² de {r2_comp:.2f}, o MAE de {mae_comp:.2f} e o MSR de {mae_comp:.2f}.')"
      ],
      "execution_count": 39,
      "outputs": [
        {
          "output_type": "stream",
          "text": [
            "O modelo composto tem o R² de 0.63, o MAE de 24.80 e o MSR de 24.80.\n"
          ],
          "name": "stdout"
        }
      ]
    },
    {
      "cell_type": "markdown",
      "metadata": {
        "id": "Jis0cR93KZg7"
      },
      "source": [
        "Dashboard"
      ]
    },
    {
      "cell_type": "code",
      "metadata": {
        "id": "DG5sJk5CKY2D"
      },
      "source": [
        "import dash\n",
        "from dash.dependencies import Input, Output\n",
        "import dash_core_components as dcc\n",
        "import dash_html_components as html\n",
        "import dash_bootstrap_components as dbc"
      ],
      "execution_count": 40,
      "outputs": []
    },
    {
      "cell_type": "code",
      "metadata": {
        "id": "2LnLi-IoKy3-"
      },
      "source": [
        "external_stylesheets = [dbc.themes.BOOTSTRAP]"
      ],
      "execution_count": 41,
      "outputs": []
    },
    {
      "cell_type": "code",
      "metadata": {
        "id": "6rJWpJ7ALALg"
      },
      "source": [
        "app = dash.Dash(__name__, external_stylesheets=external_stylesheets)\n",
        "app.title = 'Módulo de Resiliência'"
      ],
      "execution_count": 42,
      "outputs": []
    },
    {
      "cell_type": "code",
      "metadata": {
        "id": "tf5v5q8SLabY"
      },
      "source": [
        "\n",
        "colors = {\n",
        "    'background': '#111111',\n",
        "    'bodyColor':'#F2DFCE',\n",
        "    'text': '#7FDBFF'\n",
        "}\n",
        "def get_page_heading_style():\n",
        "    return {'backgroundColor': colors['background']}\n",
        "\n",
        "def get_page_heading_title():\n",
        "    return html.H1(children='Módulo de Resiliência', style={'textAlign': 'center', 'color': colors['text']})\n",
        "\n",
        "def get_page_heading_subtitle():\n",
        "    return html.Div(children='Cálculo de Modelos de Módulo de Resiliência para o MeDiNa',\n",
        "                                         style={\n",
        "                                             'textAlign':'center',\n",
        "                                             'color':colors['text']\n",
        "                                         })\n",
        "\n",
        "def generate_page_header():\n",
        "    main_header =  dbc.Row(\n",
        "                            [\n",
        "                                dbc.Col(get_page_heading_title(),md=12)\n",
        "                            ],\n",
        "                            align=\"center\",\n",
        "                            style=get_page_heading_style()\n",
        "                        )\n",
        "    subtitle_header = dbc.Row(\n",
        "                            [\n",
        "                                dbc.Col(get_page_heading_subtitle(),md=12)\n",
        "                            ],\n",
        "                            align=\"center\",\n",
        "                            style=get_page_heading_style()\n",
        "                        )\n",
        "    header = (main_header,subtitle_header)\n",
        "    return header"
      ],
      "execution_count": 43,
      "outputs": []
    },
    {
      "cell_type": "code",
      "metadata": {
        "id": "jUcNlqhys6q4"
      },
      "source": [
        "def generate_table(dataframe, max_rows=10):\n",
        "    return html.Table([\n",
        "        html.Thead(\n",
        "            html.Tr([html.Th(col) for col in dataframe.columns])\n",
        "        ),\n",
        "        html.Tbody([\n",
        "            html.Tr([\n",
        "                html.Td(f'{dataframe.iloc[i][col]:.4f}') for col in dataframe.columns\n",
        "            ], className=\"table-text\", style={'textAlign':'center',  'border': '1px solid', 'background-color':  'white'}) \n",
        "            for i in range(min(len(dataframe), max_rows))\n",
        "        ])\n",
        "    ])"
      ],
      "execution_count": 44,
      "outputs": []
    },
    {
      "cell_type": "code",
      "metadata": {
        "id": "7UHM3uyJM-ZJ"
      },
      "source": [
        "def graph1():\n",
        "    return dcc.Graph(id='graph1', figure=fig_s3_px)"
      ],
      "execution_count": 45,
      "outputs": []
    },
    {
      "cell_type": "code",
      "metadata": {
        "id": "22pSVTylN1A-"
      },
      "source": [
        "def graph2():\n",
        "    return dcc.Graph(id='graph2', figure=fig_sd_px)"
      ],
      "execution_count": 46,
      "outputs": []
    },
    {
      "cell_type": "code",
      "metadata": {
        "id": "8eO88YXSN1r0"
      },
      "source": [
        "def graph3():\n",
        "    return dcc.Graph(id='graph3', figure=fig_oct_px)"
      ],
      "execution_count": 47,
      "outputs": []
    },
    {
      "cell_type": "code",
      "metadata": {
        "id": "xXe-qESQOHo8"
      },
      "source": [
        "def generate_card_content(card_header,card_value,overall_value):\n",
        "    card_head_style = {'textAlign':'center','fontSize':'100%'}\n",
        "    card_body_style = {'textAlign':'center','fontSize':'100%'}\n",
        "    card_header = dbc.CardHeader(card_header,style=card_head_style)\n",
        "    card_body = dbc.CardBody(\n",
        "        [\n",
        "            html.H5(f\"{(card_value),}\", className=\"card-title\",style=card_body_style),\n",
        "            html.P(\n",
        "                \"R²: {:,}\".format(overall_value),\n",
        "                className=\"card-text\", style={'textAlign':'center'},\n",
        "            ),\n",
        "        ]\n",
        "    )\n",
        "    card = [card_header,card_body]\n",
        "    return card"
      ],
      "execution_count": 48,
      "outputs": []
    },
    {
      "cell_type": "code",
      "metadata": {
        "id": "DcTFw9ZmPLk0"
      },
      "source": [
        "def generate_cards():\n",
        "\n",
        "    cards = html.Div(\n",
        "        [\n",
        "            dbc.Row(\n",
        "                [\n",
        "                    dbc.Col(dbc.Card(generate_card_content(\"Modelo S3\",eq_s3,score_s3), color=\"success\", inverse=True),md=dict(size=3)),\n",
        "                    dbc.Col(dbc.Card(generate_card_content(\"Modelo SD\",eq_sd,score_sd), color=\"warning\", inverse=True),md=dict(size=3)),\n",
        "                    dbc.Col(dbc.Card(generate_card_content(\"Modelo OCT\",eq_oct,score_oct),color=\"dark\", inverse=True),md=dict(size=3)),\n",
        "                    dbc.Col(dbc.Card(generate_card_content(\"Modelo COMP\",eq_comp,score_comp),color=\"background\", inverse=True),md=dict(size=3))\n",
        "                ],\n",
        "                className=\"mb-4\",\n",
        "            ),\n",
        "        ],id='card1'\n",
        "    )\n",
        "    return cards"
      ],
      "execution_count": 49,
      "outputs": []
    },
    {
      "cell_type": "code",
      "metadata": {
        "id": "YPKR-A_ZR0gT"
      },
      "source": [
        "def generate_layout():\n",
        "    page_header = generate_page_header()\n",
        "    layout = dbc.Container(\n",
        "        [\n",
        "            page_header[0],\n",
        "            page_header[1],\n",
        "            html.Hr(),\n",
        "            dbc.Row(\n",
        "                [\n",
        "                    dbc.Col(generate_table(df_result),md=dict(size=10, offset=3))\n",
        "                ]\n",
        "            ),\n",
        "            html.Hr(),\n",
        "            generate_cards(),\n",
        "            html.Hr(),\n",
        "            dbc.Row(\n",
        "                [\n",
        "                    dbc.Col(graph1(),md=dict(size=6, offset=3)),\n",
        "                    dbc.Col(graph2(),md=dict(size=6, offset=3)),\n",
        "                    dbc.Col(graph3(),md=dict(size=6, offset=3)),\n",
        "                ],\n",
        "                align=\"center\",\n",
        "            ),\n",
        "        ], fluid=True,style={'backgroundColor': colors['bodyColor']}\n",
        "    )\n",
        "    return layout"
      ],
      "execution_count": 50,
      "outputs": []
    },
    {
      "cell_type": "code",
      "metadata": {
        "id": "KWA06TPWS-FR"
      },
      "source": [
        "app.layout = generate_layout()"
      ],
      "execution_count": 51,
      "outputs": []
    },
    {
      "cell_type": "code",
      "metadata": {
        "colab": {
          "base_uri": "https://localhost:8080/"
        },
        "id": "ZQ5s45peU6CE",
        "scrolled": true,
        "outputId": "8dbc56ac-9058-44b5-b3c7-1be36a0d0a96"
      },
      "source": [
        "app.run_server(debug=False)"
      ],
      "execution_count": null,
      "outputs": [
        {
          "output_type": "stream",
          "text": [
            "Dash is running on http://127.0.0.1:8050/\n",
            "\n",
            " * Serving Flask app \"__main__\" (lazy loading)\n",
            " * Environment: production\n",
            "\u001b[31m   WARNING: This is a development server. Do not use it in a production deployment.\u001b[0m\n",
            "\u001b[2m   Use a production WSGI server instead.\u001b[0m\n",
            " * Debug mode: off\n"
          ],
          "name": "stdout"
        },
        {
          "output_type": "stream",
          "text": [
            " * Running on http://127.0.0.1:8050/ (Press CTRL+C to quit)\n"
          ],
          "name": "stderr"
        }
      ]
    },
    {
      "cell_type": "code",
      "metadata": {
        "id": "cpCKI2yOjJSG"
      },
      "source": [
        ""
      ],
      "execution_count": null,
      "outputs": []
    }
  ]
}